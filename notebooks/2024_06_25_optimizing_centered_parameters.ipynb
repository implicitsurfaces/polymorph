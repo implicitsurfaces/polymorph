{
 "cells": [
  {
   "cell_type": "code",
   "execution_count": null,
   "metadata": {},
   "outputs": [],
   "source": [
    "from polymorph_s2df import *\n",
    "import jax.numpy as jnp\n",
    "import jax\n",
    "\n",
    "SAMPLE_SIZE = 10000\n",
    "INTEGRATION_BOUNDS = (-3, 3)\n",
    "SEED = jax.random.PRNGKey(0)\n",
    "points = jax.random.uniform(SEED, (SAMPLE_SIZE, 2), jnp.float32, *INTEGRATION_BOUNDS)"
   ]
  },
  {
   "cell_type": "code",
   "execution_count": null,
   "metadata": {},
   "outputs": [],
   "source": [
    "################################\n",
    "# Direct Optimistix optimization\n",
    "# (not using our stuff)\n",
    "\n",
    "def area(shape, points, bounds):\n",
    "    samples = shape.is_inside(points)\n",
    "    return samples.mean() * (bounds[1] - bounds[0])**2\n",
    "\n",
    "\n",
    "import optimistix\n",
    "from timeit import default_timer as timer\n",
    "def optimize_params(cost, params, points):\n",
    "    solver = optimistix.BFGS(rtol=1e-5, atol=1e-6)\n",
    "    start = timer()\n",
    "    solution = optimistix.minimise(cost, solver, params, points, throw=False)\n",
    "    elapsed = timer() - start\n",
    "    print(\"{0} steps in {1:.2f} seconds\".format(\n",
    "            solution.stats.get('num_steps'),\n",
    "            elapsed))\n",
    "    return solution.value"
   ]
  },
  {
   "cell_type": "code",
   "execution_count": null,
   "metadata": {},
   "outputs": [],
   "source": [
    "import polymorph_num.expr as expr\n",
    "from polymorph_num.expr import as_expr\n",
    "from polymorph_num import loss, ops, optimizer, vec\n",
    "\n",
    "apoints = vec.Vec2(as_expr(points[:, 0]), as_expr(points[:, 1]))\n",
    "\n",
    "def area(f, points, bounds):\n",
    "    distance = circle_sdf(r, c, points)\n",
    "    scale = as_expr(100)\n",
    "    is_inside = as_expr(1) - (scale*distance).sigmoid()\n",
    "    mean = expr.Sum(is_inside) / is_inside.dim\n",
    "    return mean * (bounds[1] - bounds[0])**2\n"
   ]
  },
  {
   "cell_type": "code",
   "execution_count": null,
   "metadata": {},
   "outputs": [],
   "source": [
    "#####################################\n",
    "# Find radius for target circle area\n",
    "\n",
    "r = ops.param()\n",
    "c = vec.Vec2(0.,0.)\n",
    "\n",
    "def circle_sdf(radius, center, point):\n",
    "    dx = center.x - point.x\n",
    "    dy = center.y - point.y\n",
    "    dist = (dx*dx + dy*dy).sqrt()\n",
    "    return dist - radius\n",
    "\n",
    "\n",
    "target_area = as_expr(3.141)\n",
    "error = target_area - area(circle_sdf, apoints, INTEGRATION_BOUNDS)\n",
    "\n",
    "l = loss.Loss(error*error)\n",
    "l.register_output(r)\n",
    "\n",
    "opt = optimizer.Optimizer(l)\n",
    "print(\"---\")\n",
    "\n",
    "def solve():\n",
    "    start = timer()\n",
    "    soln = opt.optimize({})\n",
    "    elapsed = timer() - start\n",
    "    print(\"optimized in {0:.2f} seconds\".format(elapsed))\n",
    "    return soln\n",
    "\n",
    "soln = solve()\n",
    "soln = solve()\n",
    "\n",
    "print(soln.eval(r))"
   ]
  }
 ],
 "metadata": {
  "kernelspec": {
   "display_name": ".venv",
   "language": "python",
   "name": "python3"
  },
  "language_info": {
   "codemirror_mode": {
    "name": "ipython",
    "version": 3
   },
   "file_extension": ".py",
   "mimetype": "text/x-python",
   "name": "python",
   "nbconvert_exporter": "python",
   "pygments_lexer": "ipython3",
   "version": "3.12.3"
  }
 },
 "nbformat": 4,
 "nbformat_minor": 2
}
