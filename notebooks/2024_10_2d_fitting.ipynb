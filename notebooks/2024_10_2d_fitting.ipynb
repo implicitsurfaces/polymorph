{
 "cells": [
  {
   "cell_type": "code",
   "execution_count": null,
   "metadata": {},
   "outputs": [],
   "source": [
    "import jax.numpy as jnp\n",
    "import jax\n",
    "#jax.config.update(\"jax_debug_nans\", True)\n",
    "#jax.config.update('jax_disable_jit', True)\n",
    "#jax.config.update(\"jax_enable_x64\", True)\n",
    "jnp.set_printoptions(formatter={'float': '{:.2e}'.format})\n",
    "\n",
    "import matplotlib.pyplot as plt\n",
    "import time\n",
    "from PIL import Image, ImageDraw\n"
   ]
  },
  {
   "cell_type": "code",
   "execution_count": null,
   "metadata": {},
   "outputs": [],
   "source": [
    "image_width, image_height = 200, 100\n",
    "\n",
    "image = Image.new('L', (image_width, image_height))\n",
    "draw = ImageDraw.Draw(image)\n",
    "\n",
    "style = {\"fill\": \"white\"}\n",
    "#style = {\"outline\": \"white\"}\n",
    "\n",
    "draw.circle([50, 30], 20, **style)\n",
    "draw.circle([150, 30], 20, **style)\n",
    "\n",
    "image = jnp.array(image)\n",
    "image = image / image.max()\n",
    "plt.imshow(image, cmap='gray', origin='lower')\n",
    "plt.show()\n",
    "\n",
    "def enumerate_pixels(image):\n",
    "    y, x = jnp.meshgrid(jnp.arange(image.shape[0]), jnp.arange(image.shape[1]), indexing='ij')\n",
    "    y = y.flatten()\n",
    "    x = x.flatten()\n",
    "    values = image.flatten()\n",
    "    enumerated_pixels = jnp.column_stack((x, y, values))\n",
    "    return enumerated_pixels\n",
    "\n",
    "# x/y/value of all pixels\n",
    "enumerated_pixels = enumerate_pixels(image)\n",
    "\n",
    "# x/y coordinates of nonzero pixels\n",
    "occupied_pixels = enumerated_pixels[enumerated_pixels[:, 2] > 0][:, 0:2]"
   ]
  },
  {
   "cell_type": "code",
   "execution_count": null,
   "metadata": {},
   "outputs": [],
   "source": [
    "def plot_loss_vs_radius(loss, radii_range=(0, 100), num_points=200, title='Loss of a circle centered between the target circles'):\n",
    "    radii = jnp.linspace(radii_range[0], radii_range[1], num_points)\n",
    "    center = jnp.array([100., 30.])\n",
    "    losses = jnp.array([loss(jnp.concatenate([center, jnp.array([r])])) for r in radii])\n",
    "    desired_solution_loss = loss(jnp.array([50., 30., 20.]))\n",
    "\n",
    "    plt.figure(figsize=(10, 6))\n",
    "    plt.plot(radii, losses)\n",
    "    plt.title(title)\n",
    "    plt.xlabel('Radius')\n",
    "    plt.ylabel('Loss')\n",
    "    plt.grid(True)\n",
    "    plt.axhline(y=desired_solution_loss, color='r', linestyle='--', label='Desired solution')\n",
    "    plt.legend()\n",
    "    plt.gca().yaxis.set_major_formatter(plt.ScalarFormatter(useMathText=True))\n",
    "    plt.gca().ticklabel_format(style='sci', axis='y', scilimits=(0,0))\n",
    "    plt.show()"
   ]
  },
  {
   "cell_type": "code",
   "execution_count": null,
   "metadata": {},
   "outputs": [],
   "source": [
    "def circle(x, y, radius):\n",
    "    p = jnp.array([x,y])\n",
    "    return jnp.linalg.norm(p) - jnp.abs(radius)\n",
    "\n",
    "def distance_to_circle(x, y, circle_x, circle_y, circle_r):\n",
    "    return circle(x - circle_x, y - circle_y, circle_r)"
   ]
  },
  {
   "cell_type": "markdown",
   "metadata": {},
   "source": [
    "# Squared distance loss"
   ]
  },
  {
   "cell_type": "code",
   "execution_count": null,
   "metadata": {},
   "outputs": [],
   "source": [
    "@jax.jit\n",
    "def loss_fn_squared_distance(params):\n",
    "    loss = jax.vmap(lambda point: distance_to_circle(point[0], point[1], *params[0:3]))(occupied_pixels)**2.0\n",
    "    return loss.sum()\n",
    "plot_loss_vs_radius(loss_fn_squared_distance)"
   ]
  },
  {
   "cell_type": "markdown",
   "metadata": {},
   "source": [
    "# Inside losses"
   ]
  },
  {
   "cell_type": "code",
   "execution_count": null,
   "metadata": {},
   "outputs": [],
   "source": [
    "@jax.jit\n",
    "def loss_fn_unoccupied_inside(params):\n",
    "    def f(pixel):\n",
    "        x, y, occupied = pixel\n",
    "        dist = distance_to_circle(x, y, *params[0:3])\n",
    "        return jnp.where(dist > 0, 0, 1-occupied)\n",
    "    loss = jax.vmap(f)(enumerated_pixels)\n",
    "    return loss.sum()\n",
    "plot_loss_vs_radius(loss_fn_unoccupied_inside, title=\"loss = unoccupied pixels inside the circle\")"
   ]
  },
  {
   "cell_type": "code",
   "execution_count": null,
   "metadata": {},
   "outputs": [],
   "source": [
    "@jax.jit\n",
    "def loss_fn_unoccupied_ratio(params):\n",
    "    def f(pixel):\n",
    "        x, y, occupied = pixel\n",
    "        dist = distance_to_circle(x, y, *params[0:3])\n",
    "        return jnp.where(dist > 0, 0, jnp.array([1, occupied]))\n",
    "    inside_pixels = jax.vmap(f)(enumerated_pixels)\n",
    "    total_inside, occupied_inside = inside_pixels.sum(axis=0)\n",
    "    return 1 - (occupied_inside / total_inside)\n",
    "plot_loss_vs_radius(loss_fn_unoccupied_ratio, title=\"loss = unoccupied / total pixels\")"
   ]
  },
  {
   "cell_type": "markdown",
   "metadata": {},
   "source": [
    "## Chamfer loss\n",
    "\n",
    "From Perplexity: https://www.perplexity.ai/search/given-a-signed-distance-field-5XWR4dzITHCpXcVcbm4CdA\n",
    "\n",
    "The Chamfer distance is an excellent choice for comparing SDFs to pixel images while allowing for partial matching:\n",
    "\n",
    "- For each point on the SDF surface, find the closest pixel in the image.\n",
    "- For each occupied pixel in the image, find the closest point on the SDF surface.\n",
    "- Sum the squared distances for both directions.\n",
    "\n",
    "This loss encourages the SDF to fit at least some parts of the image well, rather than trying to fit everything poorly1.\n"
   ]
  },
  {
   "cell_type": "code",
   "execution_count": null,
   "metadata": {},
   "outputs": [],
   "source": [
    "@jax.jit\n",
    "def loss_fn_chamfer(params):\n",
    "    # if closer than threshold, consider the pixel to be on the surface\n",
    "    threshold = 5.0\n",
    "\n",
    "    def pixel_losses(pixel):\n",
    "        x, y, v = pixel\n",
    "        loc = pixel[0:2]\n",
    "        dist = jnp.abs(distance_to_circle(x, y, *params[0:3]))\n",
    "        \n",
    "        sdf_dist_loss = jnp.where(v > 0, dist, 0.0)\n",
    "        closest_occupied_pixel_distance = jnp.where(\n",
    "            enumerated_pixels[:, 2] > 0,\n",
    "            jnp.linalg.norm(enumerated_pixels[:, 0:2] - loc, axis=1),\n",
    "            jnp.inf\n",
    "        ).min()\n",
    "        occupied_pixel_dist_loss = jnp.where(v < threshold, closest_occupied_pixel_distance, 0.0)\n",
    "        \n",
    "        return jnp.array([\n",
    "            sdf_dist_loss,\n",
    "            occupied_pixel_dist_loss,\n",
    "        ])\n",
    "\n",
    "    sdf_dist_loss, occupied_pixel_dist_loss = jax.vmap(pixel_losses)(enumerated_pixels).T\n",
    "    return jnp.abs(sdf_dist_loss).mean() + jnp.abs(occupied_pixel_dist_loss).mean()\n",
    "\n",
    "# this takes about 2 minutes to compute on my Mac M1\n",
    "plot_loss_vs_radius(loss_fn_chamfer)"
   ]
  }
 ],
 "metadata": {
  "kernelspec": {
   "display_name": ".venv",
   "language": "python",
   "name": "python3"
  },
  "language_info": {
   "codemirror_mode": {
    "name": "ipython",
    "version": 3
   },
   "file_extension": ".py",
   "mimetype": "text/x-python",
   "name": "python",
   "nbconvert_exporter": "python",
   "pygments_lexer": "ipython3",
   "version": "3.12.3"
  }
 },
 "nbformat": 4,
 "nbformat_minor": 2
}
