{
 "cells": [
  {
   "cell_type": "code",
   "execution_count": null,
   "id": "53d70843-1b42-4801-928d-ea2c0c3715d3",
   "metadata": {},
   "outputs": [],
   "source": [
    "import logging\n",
    "\n",
    "logging.basicConfig(level=logging.WARNING)\n",
    "logging.getLogger(\"lbfgs\").setLevel(logging.DEBUG)\n",
    "\n",
    "from polymorph_s2df.devutils import *\n",
    "from polymorph_num import ops\n",
    "from polymorph_sketch.draw_api import *"
   ]
  },
  {
   "cell_type": "code",
   "execution_count": null,
   "id": "92ce2f82",
   "metadata": {},
   "outputs": [],
   "source": [
    "r = distance_param()\n",
    "c1_vec = vector_param()\n",
    "initial_c1 = as_point((1, 0))\n",
    "c1 = initial_c1 + c1_vec\n",
    "circle = draw_circle(r, c1)\n",
    "\n",
    "sketch = (\n",
    "    loss()\n",
    "    .fit_distance(r, 10, tol=1e-3)\n",
    "    .fit_distance((c1 - as_point((0,0))).norm(), 0.0, tol=1e-3)\n",
    "    .create_sketch()\n",
    ")\n",
    "\n",
    "sketch.add_shape(circle)\n",
    "\n",
    "print(\"r: \", sketch.debug(r))\n",
    "print(\"c1: \", sketch.debug(c1))\n",
    "print(\"c1 norm: \", sketch.debug((c1 - as_point((0,0))).norm()))"
   ]
  },
  {
   "cell_type": "code",
   "execution_count": null,
   "id": "6c18feee",
   "metadata": {},
   "outputs": [],
   "source": [
    "r = distance_param()\n",
    "c1_vec = polar_vector_param()\n",
    "initial_c1 = as_point((1, 0))\n",
    "c1 = initial_c1 + c1_vec\n",
    "circle = draw_circle(r, c1)\n",
    "\n",
    "sketch = (\n",
    "    loss()\n",
    "    .fit_distance(r, 10, tol=1e-3)\n",
    "    .fit_distance((c1 - as_point((0,0))).norm(), 0.0, tol=1e-3)\n",
    "    .create_sketch()\n",
    ")\n",
    "\n",
    "sketch.add_shape(circle)\n",
    "\n",
    "print(\"r: \", sketch.debug(r))\n",
    "print(\"c1: \", sketch.debug(c1))\n",
    "print(\"c1 norm: \", sketch.debug((c1 - as_point((0,0))).norm()))"
   ]
  }
 ],
 "metadata": {
  "kernelspec": {
   "display_name": "Python 3 (ipykernel)",
   "language": "python",
   "name": "python3"
  },
  "language_info": {
   "codemirror_mode": {
    "name": "ipython",
    "version": 3
   },
   "file_extension": ".py",
   "mimetype": "text/x-python",
   "name": "python",
   "nbconvert_exporter": "python",
   "pygments_lexer": "ipython3",
   "version": "3.12.3"
  }
 },
 "nbformat": 4,
 "nbformat_minor": 5
}
