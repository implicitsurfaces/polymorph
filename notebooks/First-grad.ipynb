{
 "cells": [
  {
   "cell_type": "code",
   "execution_count": 43,
   "id": "8f4d156a-4373-44a4-b588-dec37404ebde",
   "metadata": {},
   "outputs": [],
   "source": [
    "import jax.numpy as jnp\n",
    "import jax\n",
    "import matplotlib.pyplot as plt"
   ]
  },
  {
   "cell_type": "code",
   "execution_count": 106,
   "id": "ddaa57dc-c9eb-4d63-8fe6-39f9a2fcc780",
   "metadata": {},
   "outputs": [],
   "source": [
    "def _length(a):\n",
    "    return jnp.linalg.norm(a, axis=1)\n",
    "\n",
    "ORIGIN = jnp.array((0, 0))\n",
    "\n",
    "SEED = jax.random.PRNGKey(0)\n",
    "\n",
    "\n",
    "def circle(radius=1, center=(0, 0)):\n",
    "    center = jnp.array(center)\n",
    "    def f(p):\n",
    "        return _length(p - center) - radius\n",
    "\n",
    "    return f\n",
    "\n",
    "def translate(sdf, offset):\n",
    "    offset = jnp.array(offset)\n",
    "    def f(p):\n",
    "        return sdf(p - offset)\n",
    "\n",
    "    return f"
   ]
  },
  {
   "cell_type": "code",
   "execution_count": 104,
   "id": "5a96ca37-c072-4c3f-9331-6c6e515f9490",
   "metadata": {},
   "outputs": [],
   "source": [
    "def show_sdf(sdf, bounds=(-1, 1), n=500):\n",
    "    x = jnp.linspace(bounds[0], bounds[1], n)\n",
    "    X, Y = jnp.meshgrid(x, x)\n",
    "\n",
    "    grid_points = jnp.column_stack((X.flatten(), Y.flatten()))\n",
    "    plt.imshow(1-inside(sdf)(grid_points).reshape(n, n), cmap=\"gray\", extent=[bounds[0], bounds[1],bounds[0], bounds[1]])"
   ]
  },
  {
   "cell_type": "code",
   "execution_count": 9,
   "id": "4a8125d3-42ac-4102-95ef-843905181ba0",
   "metadata": {},
   "outputs": [],
   "source": [
    "N = 1000\n",
    "shape = (N, 2)\n",
    "dtype = jnp.float32\n",
    "\n",
    "def naive_area(sdf, bounds=[-1, 1], n=1000):\n",
    "    points = jax.random.uniform(SEED, (n, 2), jnp.float32, bounds[0], bounds[1])\n",
    "    computed_sdf = sdf(random_numbers) < 0\n",
    "    return jnp.sum(computed_sdf) / n * (bounds[1] - bounds[0])**2"
   ]
  },
  {
   "cell_type": "code",
   "execution_count": 10,
   "id": "67f0eecb-f1c7-4a35-85e8-aca8b6bc076a",
   "metadata": {},
   "outputs": [],
   "source": [
    "def inside(sdf):\n",
    "   def f(p):\n",
    "       distance = sdf(p)\n",
    "       return 1-jax.nn.sigmoid(100* distance)\n",
    "\n",
    "   return f"
   ]
  },
  {
   "cell_type": "code",
   "execution_count": 11,
   "id": "09088527-fb99-4f93-924d-0aab4424518f",
   "metadata": {},
   "outputs": [],
   "source": [
    "def area(sdf, bounds=[-1, 1], n=1000):\n",
    "    points = jax.random.uniform(SEED, (n, 2), jnp.float32, bounds[0], bounds[1])\n",
    "    computed_sdf = inside(sdf)(points)\n",
    "    return jnp.sum(computed_sdf) / n * (bounds[1] - bounds[0])**2\n",
    "    "
   ]
  },
  {
   "cell_type": "code",
   "execution_count": 12,
   "id": "84d3467e-17c8-4f13-8423-feb504203313",
   "metadata": {},
   "outputs": [
    {
     "data": {
      "text/plain": [
       "Array(3.1196575, dtype=float32)"
      ]
     },
     "execution_count": 12,
     "metadata": {},
     "output_type": "execute_result"
    }
   ],
   "source": [
    "area(circle(1), n=10000, bounds=[-1.2, 1.2])"
   ]
  },
  {
   "cell_type": "code",
   "execution_count": 14,
   "id": "5f249969-4a76-44a5-aac5-d24aa277a461",
   "metadata": {},
   "outputs": [
    {
     "data": {
      "text/plain": [
       "(Array(3.144044, dtype=float32), Array([6.2955976], dtype=float32))"
      ]
     },
     "execution_count": 14,
     "metadata": {},
     "output_type": "execute_result"
    }
   ],
   "source": [
    "jax.value_and_grad(lambda x: area(circle(x), n=1000000, bounds=[-1.2, 1.2]))(jnp.array([1.0]))"
   ]
  },
  {
   "cell_type": "code",
   "execution_count": 100,
   "id": "13adec9b-f801-49d4-a163-1a2dc4e58480",
   "metadata": {},
   "outputs": [],
   "source": [
    "def centroid(sdf, bounds=[-1, 1], n=1000):\n",
    "    points = jax.random.uniform(SEED, (n, 2), jnp.float32, bounds[0], bounds[1])\n",
    "    inside_points = inside(sdf)(points)\n",
    "    return jnp.average(points, weights=inside_points, axis=0)"
   ]
  },
  {
   "cell_type": "code",
   "execution_count": 91,
   "id": "5e431d2f-224f-494f-b44a-b7b7d438223d",
   "metadata": {},
   "outputs": [
    {
     "data": {
      "text/plain": [
       "Array([0.9911855 , 0.00240598], dtype=float32)"
      ]
     },
     "execution_count": 91,
     "metadata": {},
     "output_type": "execute_result"
    }
   ],
   "source": [
    "points = jax.random.uniform(SEED, (100000, 2), jnp.float32, -1, 3)\n",
    "inside_points = inside(translate(circle(), jnp.array([1, 0])))(points)\n",
    "\n",
    "jnp.average(points, weights=inside_points, axis=0)"
   ]
  },
  {
   "cell_type": "code",
   "execution_count": 105,
   "id": "cebccb27-1f09-4e92-9941-e820142867f0",
   "metadata": {},
   "outputs": [
    {
     "name": "stdout",
     "output_type": "stream",
     "text": [
      "[-0.03357982  1.0125258 ]\n"
     ]
    },
    {
     "data": {
      "text/plain": [
       "<matplotlib.collections.PathCollection at 0x13f3c8290>"
      ]
     },
     "execution_count": 105,
     "metadata": {},
     "output_type": "execute_result"
    },
    {
     "data": {
      "image/png": "[encoded data removed]",
      "text/plain": [
       "<Figure size 640x480 with 1 Axes>"
      ]
     },
     "metadata": {},
     "output_type": "display_data"
    }
   ],
   "source": [
    "sdf = translate(circle(), (0, 1))\n",
    "center = centroid(sdf, bounds=(-5, 5), n=10000)\n",
    "print(center)\n",
    "\n",
    "show_sdf(sdf, (-5, 5))\n",
    "plt.scatter(0, 0, c=\"red\")\n",
    "plt.scatter(center[0], center[1], c=\"blue\")\n",
    "\n",
    "\n"
   ]
  },
  {
   "cell_type": "code",
   "execution_count": null,
   "id": "d3454b66-9ff6-4ecf-a3c7-1dfedcc40df7",
   "metadata": {},
   "outputs": [],
   "source": []
  }
 ],
 "metadata": {
  "kernelspec": {
   "display_name": "Python 3 (ipykernel)",
   "language": "python",
   "name": "python3"
  },
  "language_info": {
   "codemirror_mode": {
    "name": "ipython",
    "version": 3
   },
   "file_extension": ".py",
   "mimetype": "text/x-python",
   "name": "python",
   "nbconvert_exporter": "python",
   "pygments_lexer": "ipython3",
   "version": "3.12.3"
  }
 },
 "nbformat": 4,
 "nbformat_minor": 5
}
