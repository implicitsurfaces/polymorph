{
 "cells": [
  {
   "cell_type": "code",
   "execution_count": 1,
   "id": "8f4d156a-4373-44a4-b588-dec37404ebde",
   "metadata": {},
   "outputs": [],
   "source": [
    "import jax.numpy as np\n",
    "import jax"
   ]
  },
  {
   "cell_type": "code",
   "execution_count": 2,
   "id": "ddaa57dc-c9eb-4d63-8fe6-39f9a2fcc780",
   "metadata": {},
   "outputs": [],
   "source": [
    "def _length(a):\n",
    "    return np.linalg.norm(a, axis=1)\n",
    "\n",
    "ORIGIN = np.array((0, 0))\n",
    "\n",
    "SEED = jax.random.PRNGKey(0)\n",
    "\n",
    "\n",
    "def circle(radius=1, center=ORIGIN):\n",
    "    def f(p):\n",
    "        return _length(p - center) - radius\n",
    "\n",
    "    return f"
   ]
  },
  {
   "cell_type": "code",
   "execution_count": 3,
   "id": "be750824-a9ce-4af4-8279-eb0ca2abd702",
   "metadata": {},
   "outputs": [],
   "source": [
    "a = np.array([(0, 1), (2, 3)])"
   ]
  },
  {
   "cell_type": "code",
   "execution_count": 4,
   "id": "1c0600d6-0919-4995-830b-9017d4ecefbc",
   "metadata": {},
   "outputs": [
    {
     "data": {
      "text/plain": [
       "Array([[0, 1],\n",
       "       [2, 3]], dtype=int32)"
      ]
     },
     "execution_count": 4,
     "metadata": {},
     "output_type": "execute_result"
    }
   ],
   "source": [
    "a"
   ]
  },
  {
   "cell_type": "code",
   "execution_count": 5,
   "id": "e630c884-cbe2-4024-b4c8-c24631207e2f",
   "metadata": {},
   "outputs": [
    {
     "data": {
      "text/plain": [
       "Array([ 4., 10.], dtype=float32)"
      ]
     },
     "execution_count": 5,
     "metadata": {},
     "output_type": "execute_result"
    }
   ],
   "source": [
    "np.linalg.norm(a, axis=0) ** 2"
   ]
  },
  {
   "cell_type": "code",
   "execution_count": 6,
   "id": "f5b72803-b875-4780-a531-0fc11ed773f8",
   "metadata": {},
   "outputs": [],
   "source": [
    "sdf = circle()"
   ]
  },
  {
   "cell_type": "code",
   "execution_count": 7,
   "id": "3c6bf291-5c51-4e5e-9cf9-98e58caa7a96",
   "metadata": {},
   "outputs": [
    {
     "data": {
      "text/plain": [
       "Array([-1.], dtype=float32)"
      ]
     },
     "execution_count": 7,
     "metadata": {},
     "output_type": "execute_result"
    }
   ],
   "source": [
    "sdf(np.array([(0, 0)]))"
   ]
  },
  {
   "cell_type": "code",
   "execution_count": 8,
   "id": "4a8125d3-42ac-4102-95ef-843905181ba0",
   "metadata": {},
   "outputs": [
    {
     "data": {
      "text/plain": [
       "Array(3.16, dtype=float32)"
      ]
     },
     "execution_count": 8,
     "metadata": {},
     "output_type": "execute_result"
    }
   ],
   "source": [
    "N = 1000\n",
    "shape = (N, 2)\n",
    "dtype = np.float32\n",
    "\n",
    "random_numbers = jax.random.uniform(SEED, shape, dtype, -1, 1)\n",
    "computed_sdf = sdf(random_numbers) < 0\n",
    "np.sum(computed_sdf) / N * 4"
   ]
  },
  {
   "cell_type": "code",
   "execution_count": 28,
   "id": "67f0eecb-f1c7-4a35-85e8-aca8b6bc076a",
   "metadata": {},
   "outputs": [],
   "source": [
    "def inside(sdf):\n",
    "   def f(p):\n",
    "       distance = sdf(p)\n",
    "       return 1-jax.nn.sigmoid(100* distance)\n",
    "\n",
    "   return f\n",
    "\n"
   ]
  },
  {
   "cell_type": "code",
   "execution_count": 10,
   "id": "dfc60305-027c-4067-b7f7-1d6e84ee6218",
   "metadata": {},
   "outputs": [
    {
     "data": {
      "text/plain": [
       "Array(3.150337, dtype=float32)"
      ]
     },
     "execution_count": 10,
     "metadata": {},
     "output_type": "execute_result"
    }
   ],
   "source": [
    "N = 1000\n",
    "shape = (N, 2)\n",
    "dtype = np.float32\n",
    "\n",
    "random_numbers = jax.random.uniform(SEED, shape, dtype, -1, 1)\n",
    "computed_sdf = inside(sdf)(random_numbers)\n",
    "np.sum(computed_sdf) / N * 4"
   ]
  },
  {
   "cell_type": "code",
   "execution_count": 29,
   "id": "09088527-fb99-4f93-924d-0aab4424518f",
   "metadata": {},
   "outputs": [],
   "source": [
    "def area(sdf, bounds=[-1, 1], n=1000):\n",
    "    points = jax.random.uniform(SEED, (n, 2), np.float32, bounds[0], bounds[1])\n",
    "    computed_sdf = inside(sdf)(points)\n",
    "    return np.sum(computed_sdf) / n * (bounds[1] - bounds[0])**2\n",
    "    "
   ]
  },
  {
   "cell_type": "code",
   "execution_count": 49,
   "id": "84d3467e-17c8-4f13-8423-feb504203313",
   "metadata": {},
   "outputs": [
    {
     "data": {
      "text/plain": [
       "Array(3.1196575, dtype=float32)"
      ]
     },
     "execution_count": 49,
     "metadata": {},
     "output_type": "execute_result"
    }
   ],
   "source": [
    "area(circle(1), n=10000, bounds=[-1.2, 1.2])"
   ]
  },
  {
   "cell_type": "code",
   "execution_count": 56,
   "id": "5f249969-4a76-44a5-aac5-d24aa277a461",
   "metadata": {},
   "outputs": [
    {
     "data": {
      "text/plain": [
       "(Array(3.144044, dtype=float32), Array([6.2955976], dtype=float32))"
      ]
     },
     "execution_count": 56,
     "metadata": {},
     "output_type": "execute_result"
    }
   ],
   "source": [
    "jax.value_and_grad(lambda x: area(circle(x), n=1000000, bounds=[-1.2, 1.2]))(np.array([1.0]))"
   ]
  },
  {
   "cell_type": "code",
   "execution_count": null,
   "id": "13adec9b-f801-49d4-a163-1a2dc4e58480",
   "metadata": {},
   "outputs": [],
   "source": []
  }
 ],
 "metadata": {
  "kernelspec": {
   "display_name": "Python 3 (ipykernel)",
   "language": "python",
   "name": "python3"
  },
  "language_info": {
   "codemirror_mode": {
    "name": "ipython",
    "version": 3
   },
   "file_extension": ".py",
   "mimetype": "text/x-python",
   "name": "python",
   "nbconvert_exporter": "python",
   "pygments_lexer": "ipython3",
   "version": "3.12.3"
  }
 },
 "nbformat": 4,
 "nbformat_minor": 5
}
