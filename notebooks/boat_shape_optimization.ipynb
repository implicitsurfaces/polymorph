{
 "cells": [
  {
   "cell_type": "code",
   "execution_count": 1,
   "id": "8f4d156a-4373-44a4-b588-dec37404ebde",
   "metadata": {
    "id": "8f4d156a-4373-44a4-b588-dec37404ebde"
   },
   "outputs": [],
   "source": [
    "import jax.numpy as jnp\n",
    "import jax\n",
    "import matplotlib.pyplot as plt\n",
    "import optimistix\n",
    "from timeit import default_timer as timer"
   ]
  },
  {
   "cell_type": "code",
   "execution_count": 2,
   "id": "ddaa57dc-c9eb-4d63-8fe6-39f9a2fcc780",
   "metadata": {
    "id": "ddaa57dc-c9eb-4d63-8fe6-39f9a2fcc780"
   },
   "outputs": [],
   "source": [
    "ORIGIN = jnp.array((0, 0))\n",
    "SEED = jax.random.PRNGKey(0)\n",
    "\n",
    "\n",
    "def _length(a):\n",
    "    return jnp.linalg.norm(a, axis=1)\n",
    "\n",
    "def _soft_plus(value):\n",
    "    return jax.nn.softplus(50 * value) / 50\n",
    "\n",
    "def _soft_minus(value):\n",
    "    return -jax.nn.softplus(50 * -value) / 50\n",
    "\n",
    "#########################\n",
    "## Transformations\n",
    "\n",
    "def translate(sdf, offset):\n",
    "    offset = jnp.array(offset)\n",
    "    def f(p):\n",
    "        return sdf(p - offset)\n",
    "    return f\n",
    "\n",
    "def rotate(sdf, angle):\n",
    "    s = jnp.sin(angle)\n",
    "    c = jnp.cos(angle)\n",
    "    R = jnp.array(\n",
    "        [\n",
    "            [c, -s],\n",
    "            [s, c],\n",
    "        ]\n",
    "    )\n",
    "    def f(p):\n",
    "        return sdf((R @ p.T).T)\n",
    "    return f\n",
    "\n",
    "def rotate_around_center(sdf, angle, center):\n",
    "    center = jnp.array(center)\n",
    "\n",
    "    def f(p):\n",
    "        v = translate(rotate(translate(sdf, -center), angle), center)(p)\n",
    "        return v\n",
    "    return f\n",
    "\n",
    "# Map SDF function into one with interior/exterior points mapped to (roughly) 1 and 0, respectively.\n",
    "def inside(sdf, scale=100):\n",
    "   def f(p):\n",
    "       return 1 - jax.nn.sigmoid(scale * sdf(p))\n",
    "   return f\n",
    "\n",
    "\n",
    "#########################\n",
    "## Primitive SDFs\n",
    "\n",
    "def circle(radius=1, center=(0, 0)):\n",
    "    center = jnp.array(center)\n",
    "    def f(p):\n",
    "        return _length(p - center) - radius\n",
    "    return f\n",
    "\n",
    "def rectangle(size=(1,1), center=(0, 0)):\n",
    "    center = jnp.array(center)\n",
    "    size = jnp.array(size)\n",
    "\n",
    "    def f(p):\n",
    "        q = jnp.abs(p - center) - size / 2\n",
    "        return _length(_soft_plus(q)) + _soft_minus(jnp.amax(q, axis=1))\n",
    "    return f\n",
    "\n",
    "def bottom_half_plane(p):\n",
    "    return p[:, 1]\n",
    "\n",
    "\n",
    "#########################\n",
    "## Combinators\n",
    "\n",
    "def intersection(sdf1, sdf2):\n",
    "    def f(p):\n",
    "        return jnp.maximum(sdf1(p), sdf2(p))\n",
    "    return f\n",
    "\n",
    "def union(sdf1, sdf2):\n",
    "    def f(p):\n",
    "        return jnp.minimum(sdf1(p), sdf2(p))\n",
    "    return f\n",
    "\n",
    "\n",
    "#########################\n",
    "## Analysis\n",
    "\n",
    "## TODO: combine sample points and bounds into single object since they're always related.\n",
    "\n",
    "def area(sdf, points, bounds=(-1, 1)):\n",
    "    samples = inside(sdf)(points)\n",
    "    return samples.mean() * (bounds[1] - bounds[0])**2\n",
    "\n",
    "def centroid(sdf, points):\n",
    "    samples = inside(sdf)(points)\n",
    "    return jnp.average(points, weights=samples, axis=0)\n",
    "\n",
    "\n",
    "\n",
    "def render(sdf, bounds=(-1, 1), n=500):\n",
    "    x = jnp.linspace(bounds[0], bounds[1], n)\n",
    "    X, Y = jnp.meshgrid(x, x)\n",
    "    grid_points = jnp.column_stack((X.flatten(), Y.flatten()))\n",
    "    plt.imshow(1 - inside(sdf)(grid_points).reshape(n, n)\n",
    "               , cmap=\"gray\"\n",
    "               , origin=\"lower\"\n",
    "               , extent=[bounds[0], bounds[1],bounds[0], bounds[1]])"
   ]
  },
  {
   "cell_type": "markdown",
   "id": "6b13bce3-463f-4bf0-bca6-95727cccfb9e",
   "metadata": {
    "id": "6b13bce3-463f-4bf0-bca6-95727cccfb9e"
   },
   "source": [
    "## Boat shape optimization\n",
    "\n",
    "Try to simultaniously optimize the shape and equilibirum position of a boat made up of stacked rectangles."
   ]
  },
  {
   "cell_type": "code",
   "execution_count": 57,
   "id": "203d06aa-e702-48c6-ad80-9a3df861ea09",
   "metadata": {
    "id": "203d06aa-e702-48c6-ad80-9a3df861ea09"
   },
   "outputs": [],
   "source": [
    "RELATIVE_DENSITY = 0.5\n",
    "SAMPLE_SIZE = 10000\n",
    "INTEGRATION_BOUNDS = (-3, 3)"
   ]
  },
  {
   "cell_type": "code",
   "execution_count": 4,
   "id": "84af2c70-56f1-4b08-b3c0-51a1e1d1cb47",
   "metadata": {
    "id": "84af2c70-56f1-4b08-b3c0-51a1e1d1cb47"
   },
   "outputs": [],
   "source": [
    "def update_position(original_shape, original_shape_center, p1, p2):\n",
    "    return translate(rotate_around_center(original_shape, jnp.atan(p1), original_shape_center), (0, p2))\n",
    "\n",
    "def alignment_cost(shape, points):\n",
    "    center_of_gravity = centroid(shape, points)\n",
    "    \n",
    "    shape_weight = RELATIVE_DENSITY * area(shape, points, bounds=INTEGRATION_BOUNDS)\n",
    "\n",
    "    displacement = intersection(bottom_half_plane, shape)\n",
    "    center_of_buoyancy = centroid(displacement, points)\n",
    "\n",
    "    displacement_weight = area(displacement, points, bounds=INTEGRATION_BOUNDS)\n",
    "\n",
    "    gravity_cost = displacement_weight - shape_weight\n",
    "    torque_cost = (center_of_buoyancy - center_of_gravity)[0]\n",
    "\n",
    "    costs = jnp.array([gravity_cost, torque_cost])\n",
    "    return jnp.dot(costs, costs)\n",
    "\n",
    "def center_of_gravity(shape, points):\n",
    "    return centroid(shape, points)\n",
    "\n",
    "def center_of_buoyancy(shape, points):\n",
    "    displacement = intersection(bottom_half_plane, shape)\n",
    "    return centroid(displacement, points)"
   ]
  },
  {
   "cell_type": "code",
   "execution_count": 38,
   "id": "0201d846-4067-47fa-8489-f180bf51c953",
   "metadata": {
    "id": "0201d846-4067-47fa-8489-f180bf51c953"
   },
   "outputs": [],
   "source": [
    "def optimize_params(cost, params, points):\n",
    "    solver = optimistix.BFGS(rtol=1e-5, atol=1e-6)\n",
    "    start = timer()\n",
    "    solution = optimistix.minimise(cost, solver, params, points)\n",
    "    elapsed = timer() - start\n",
    "    print(\"{0} steps in {1:.2f} seconds\".format(\n",
    "            solution.stats.get('num_steps'),\n",
    "            elapsed))\n",
    "    return solution.value"
   ]
  },
  {
   "cell_type": "code",
   "execution_count": 52,
   "id": "dd4524fa-ec0a-4039-9b7b-64c0d6fc541a",
   "metadata": {
    "colab": {
     "base_uri": "https://localhost:8080/",
     "height": 435
    },
    "id": "dd4524fa-ec0a-4039-9b7b-64c0d6fc541a",
    "outputId": "36cddd1f-a455-451a-e762-7431fc6957ab"
   },
   "outputs": [],
   "source": [
    "if True: # Hack to create local scope.\n",
    "    shape = translate(rotate(rectangle((1,0.5)), jnp.pi), (0, 0.1))\n",
    "    points = jax.random.uniform(SEED, (SAMPLE_SIZE, 2), jnp.float32, *INTEGRATION_BOUNDS)\n",
    "    cog = center_of_gravity(shape, points)\n",
    "    initial_params = jnp.array(\n",
    "        [ 0. # y position\n",
    "        , 0. # tan(angle) around center of gravity\n",
    "        ])\n",
    "\n",
    "    def params_to_shape(params):\n",
    "        return update_position(shape, cog, params[0], params[1])\n",
    "    \n",
    "    def cost(params, points):\n",
    "        return alignment_cost(params_to_shape(params), points)"
   ]
  },
  {
   "cell_type": "code",
   "execution_count": 41,
   "id": "e2182b66-65a9-4cf4-8ba6-e039f1a5a280",
   "metadata": {},
   "outputs": [
    {
     "name": "stdout",
     "output_type": "stream",
     "text": [
      "16 steps in 2.24 seconds\n"
     ]
    },
    {
     "data": {
      "text/plain": [
       "<matplotlib.collections.PathCollection at 0x19a28d80530>"
      ]
     },
     "execution_count": 41,
     "metadata": {},
     "output_type": "execute_result"
    },
    {
     "data": {
      "image/png": "[encoded data removed]",
      "text/plain": [
       "<Figure size 640x480 with 1 Axes>"
      ]
     },
     "metadata": {},
     "output_type": "display_data"
    }
   ],
   "source": [
    "    params = optimize_params(cost, initial_params, points)\n",
    "\n",
    "    end_shape = params_to_shape(params)\n",
    "    render(end_shape, bounds=INTEGRATION_BOUNDS)\n",
    "    plt.scatter(*center_of_gravity(end_shape, points), c=\"red\")\n",
    "    plt.scatter(*center_of_buoyancy(end_shape, points), c=\"blue\")"
   ]
  },
  {
   "cell_type": "markdown",
   "id": "b91252a0",
   "metadata": {},
   "source": [
    "# Optimize geometry to try and make a boat with fixed area with maximum height above waterline"
   ]
  },
  {
   "cell_type": "code",
   "execution_count": 58,
   "id": "6561c64f",
   "metadata": {},
   "outputs": [
    {
     "data": {
      "image/png": "[encoded data removed]",
      "text/plain": [
       "<Figure size 640x480 with 1 Axes>"
      ]
     },
     "metadata": {},
     "output_type": "display_data"
    }
   ],
   "source": [
    "points = jax.random.uniform(SEED, (SAMPLE_SIZE, 2), jnp.float32, *INTEGRATION_BOUNDS)\n",
    "initial_params = jnp.array(\n",
    "    [ 0. # y position\n",
    "    , 0. # tan(angle) around center of gravity\n",
    "    , 1. # r1 width\n",
    "    , 1. # r2 width\n",
    "    , 1. # r3 width\n",
    "    ])\n",
    "\n",
    "\n",
    "def params_to_shape(params):\n",
    "    shape = union(rectangle(size = (params[2], 1), center = (0, 0)),\n",
    "                    union(rectangle(size = (params[3], 1), center = (0, 1)),\n",
    "                        rectangle(size = (params[4], 1), center = (0, 2))))\n",
    "    cog = center_of_gravity(shape, points)\n",
    "    return update_position(shape, cog, params[0], params[1])\n",
    "\n",
    "render(params_to_shape(initial_params), INTEGRATION_BOUNDS)"
   ]
  },
  {
   "cell_type": "code",
   "execution_count": 59,
   "id": "d004e549",
   "metadata": {},
   "outputs": [],
   "source": [
    "def cost(params, points):\n",
    "    shape = params_to_shape(params)\n",
    "    target_area = 3\n",
    "    area_cost = (target_area - area(shape, points, INTEGRATION_BOUNDS))**2\n",
    "    distance_from_3 = shape(jnp.array([[0, 3]]))\n",
    "    return area_cost + alignment_cost(shape, points) + 2.0**distance_from_3[0]\n"
   ]
  },
  {
   "cell_type": "code",
   "execution_count": 61,
   "id": "cb47a931-faf1-48ff-9f69-be982aa36052",
   "metadata": {},
   "outputs": [
    {
     "name": "stdout",
     "output_type": "stream",
     "text": [
      "62 steps in 5.98 seconds\n",
      "[-5.7344056e-07  4.7073964e-02  2.9456320e+00 -1.2505856e-01\n",
      " -3.9731052e-02]\n"
     ]
    },
    {
     "data": {
      "image/png": "[encoded data removed]",
      "text/plain": [
       "<Figure size 640x480 with 1 Axes>"
      ]
     },
     "metadata": {},
     "output_type": "display_data"
    }
   ],
   "source": [
    "\n",
    "params = optimize_params(cost, initial_params, points)\n",
    "print(params)\n",
    "\n",
    "end_shape = params_to_shape(params)\n",
    "render(end_shape, bounds=INTEGRATION_BOUNDS)\n"
   ]
  },
  {
   "cell_type": "code",
   "execution_count": null,
   "id": "7586366d-f9d3-4771-ab1c-eee9a5068e89",
   "metadata": {},
   "outputs": [],
   "source": []
  }
 ],
 "metadata": {
  "colab": {
   "machine_shape": "hm",
   "provenance": []
  },
  "kernelspec": {
   "display_name": "Python 3 (ipykernel)",
   "language": "python",
   "name": "python3"
  },
  "language_info": {
   "codemirror_mode": {
    "name": "ipython",
    "version": 3
   },
   "file_extension": ".py",
   "mimetype": "text/x-python",
   "name": "python",
   "nbconvert_exporter": "python",
   "pygments_lexer": "ipython3",
   "version": "3.12.3"
  }
 },
 "nbformat": 4,
 "nbformat_minor": 5
}
