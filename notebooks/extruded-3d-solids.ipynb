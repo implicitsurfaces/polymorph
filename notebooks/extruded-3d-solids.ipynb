{
 "cells": [
  {
   "cell_type": "code",
   "execution_count": 1,
   "id": "073bedee-e0c5-4ee1-b951-d1b0b87429e1",
   "metadata": {},
   "outputs": [],
   "source": [
    "import polyscope as ps\n",
    "import interactive_polyscope\n",
    "import polymorph_s2df as sdf\n",
    "from polymorph_s2df.devutils import *\n",
    "from polymorph_s2df import *\n",
    "import math\n",
    "\n",
    "import ipywidgets as widgets\n",
    "\n",
    "\n",
    "%gui polyscope"
   ]
  },
  {
   "cell_type": "code",
   "execution_count": 7,
   "id": "2a5808c3-af9d-4e4e-8072-20dece7c6b25",
   "metadata": {},
   "outputs": [],
   "source": [
    "solid = embed_in_3d(Box(1, 2).shell(0.2), XY_PLANE).extrude(1)"
   ]
  },
  {
   "cell_type": "code",
   "execution_count": 8,
   "id": "249418bf-9686-4b68-85dc-3e18a216d310",
   "metadata": {},
   "outputs": [],
   "source": [
    "def show_solid(z_translation, x_pivot, is_distance=True):\n",
    "    plane = (Plane() \n",
    "        .translate(z=z_translation)\n",
    "        .pivot(x_pivot * 180 / math.pi, X_AXIS)\n",
    "            )\n",
    "    slice = SolidSlice(solid, plane)\n",
    "    render_distance(slice) if is_distance else render(slice)\n",
    "    "
   ]
  },
  {
   "cell_type": "code",
   "execution_count": 9,
   "id": "186820c3-a7ff-4aa9-815d-bfbf97735bf6",
   "metadata": {},
   "outputs": [
    {
     "data": {
      "application/vnd.jupyter.widget-view+json": {
       "model_id": "2c6b2039488b4e828e2d98aa9a0ef86f",
       "version_major": 2,
       "version_minor": 0
      },
      "text/plain": [
       "interactive(children=(FloatSlider(value=0.0, description='z_translation', max=3.0, min=-3.0), FloatSlider(valu…"
      ]
     },
     "metadata": {},
     "output_type": "display_data"
    },
    {
     "data": {
      "text/plain": [
       "<function __main__.show_solid(z_translation, x_pivot, is_distance=True)>"
      ]
     },
     "execution_count": 9,
     "metadata": {},
     "output_type": "execute_result"
    }
   ],
   "source": [
    "widgets.interact(show_solid, \n",
    "                 z_translation=widgets.FloatSlider(0, min=-3, max=3),\n",
    "                 x_pivot=widgets.FloatSlider(0, min=0, max=360),\n",
    "                 is_distance=True\n",
    "                )"
   ]
  },
  {
   "cell_type": "code",
   "execution_count": 11,
   "id": "256a96e0-6849-43a0-9b95-3d5e47de4677",
   "metadata": {},
   "outputs": [],
   "source": [
    "render_solid(solid)\n",
    "ps.show()"
   ]
  },
  {
   "cell_type": "code",
   "execution_count": null,
   "id": "4036b37a-e236-47c5-a0e8-c64bf915c6a3",
   "metadata": {},
   "outputs": [],
   "source": []
  }
 ],
 "metadata": {
  "kernelspec": {
   "display_name": "Python 3 (ipykernel)",
   "language": "python",
   "name": "python3"
  },
  "language_info": {
   "codemirror_mode": {
    "name": "ipython",
    "version": 3
   },
   "file_extension": ".py",
   "mimetype": "text/x-python",
   "name": "python",
   "nbconvert_exporter": "python",
   "pygments_lexer": "ipython3",
   "version": "3.12.3"
  }
 },
 "nbformat": 4,
 "nbformat_minor": 5
}
