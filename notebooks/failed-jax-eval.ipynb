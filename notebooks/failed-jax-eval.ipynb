{
 "cells": [
  {
   "cell_type": "code",
   "execution_count": null,
   "id": "d2bbe903-c44e-4fd2-9b3f-74d94b52fd30",
   "metadata": {
    "scrolled": true
   },
   "outputs": [],
   "source": [
    "import polyscope as ps\n",
    "import interactive_polyscope\n",
    "import polymorph_s2df as sdf\n",
    "from polymorph_s2df.devutils import *\n",
    "from polymorph_s2df import *\n",
    "from polymorph_num.expr import to_str\n",
    "import math\n",
    "\n",
    "%gui polyscope\n",
    "ps.show()\n",
    "# This will break because the initialization is not done yet \n",
    "# - but it is not an issue for the next steps"
   ]
  },
  {
   "cell_type": "code",
   "execution_count": null,
   "id": "272ea2dd-7acf-415a-b69d-9ef69bf94e52",
   "metadata": {},
   "outputs": [],
   "source": [
    "# Using the `np_eval` evaluation function. It is not the fastest,\n",
    "# but it works\n",
    "\n",
    "profile = (\n",
    "    draw((-0.1, 0))\n",
    "    .horizontal_line(0.2)\n",
    "    .line_to((0.05, 0.3))\n",
    "    .close()\n",
    "    .rotate(math.pi / 2)\n",
    ")\n",
    "\n",
    "plane = XY_PLANE.translateTo((-1, 0, 0))\n",
    "enable_rotation_mode = True\n",
    "space = 0.2\n",
    "solid = (\n",
    "\tsweep(profile, plane)\n",
    "    .to_point((1, space, 0), enable_rotation_mode)\n",
    "    .to_point((-1, 2*space, 0), enable_rotation_mode)\n",
    "    .to_point((1, 3*space, 0), enable_rotation_mode)\n",
    "    .to_point((-1, 4*space, 0), enable_rotation_mode)\n",
    "    .to_solid()\n",
    ")\n",
    "\n",
    "\n",
    "render_solid(\n",
    "    solid, \n",
    "    bounds=(-1.5, 2), \n",
    "    n=100, \n",
    "    show_distances=False, \n",
    "    eval_fn=np_eval)\n",
    "ps.show()"
   ]
  },
  {
   "cell_type": "code",
   "execution_count": null,
   "id": "1f5abe82-b8cb-48da-a03e-2c4439976337",
   "metadata": {},
   "outputs": [],
   "source": [
    "# Using the same expr, but with the jax based eval_fn, I wait for a long\n",
    "# time, but it does not finish.\n",
    "\n",
    "render_solid(\n",
    "    solid, \n",
    "    bounds=(-1.5, 2), \n",
    "    n=100, \n",
    "    show_distances=False, \n",
    "    eval_fn=eval_expr)\n",
    "ps.show()"
   ]
  },
  {
   "cell_type": "code",
   "execution_count": null,
   "id": "8543ff07-9a82-4b20-b48c-16f228cc4484",
   "metadata": {},
   "outputs": [],
   "source": [
    "# Note that if you comment out all but one arc, it compiles, \n",
    "# but it is much slower than numpy\n",
    "\n",
    "solid2 = (\n",
    "\tsweep(profile, plane)\n",
    "    .to_point((1, space, 0), enable_rotation_mode)\n",
    "    #.to_point((-1, 2*space, 0), enable_rotation_mode)\n",
    "    #.to_point((1, 3*space, 0), enable_rotation_mode)\n",
    "    #.to_point((-1, 4*space, 0), enable_rotation_mode)\n",
    "    .to_solid()\n",
    ")\n",
    "render_solid(\n",
    "    solid2, \n",
    "    bounds=(-1.5, 2), \n",
    "    n=100, \n",
    "    show_distances=False, \n",
    "    eval_fn=eval_expr)\n",
    "ps.show()"
   ]
  },
  {
   "cell_type": "code",
   "execution_count": null,
   "id": "ae76e5de-c4d2-4637-b4c6-c2156b449bbf",
   "metadata": {},
   "outputs": [],
   "source": []
  }
 ],
 "metadata": {
  "kernelspec": {
   "display_name": "Python 3 (ipykernel)",
   "language": "python",
   "name": "python3"
  },
  "language_info": {
   "codemirror_mode": {
    "name": "ipython",
    "version": 3
   },
   "file_extension": ".py",
   "mimetype": "text/x-python",
   "name": "python",
   "nbconvert_exporter": "python",
   "pygments_lexer": "ipython3",
   "version": "3.12.3"
  }
 },
 "nbformat": 4,
 "nbformat_minor": 5
}
