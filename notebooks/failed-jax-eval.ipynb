{
 "cells": [
  {
   "cell_type": "code",
   "execution_count": 1,
   "id": "d2bbe903-c44e-4fd2-9b3f-74d94b52fd30",
   "metadata": {},
   "outputs": [
    {
     "name": "stdout",
     "output_type": "stream",
     "text": [
      "[polyscope]  [EXCEPTION] must initialize Polyscope with polyscope::init() before calling polyscope::show().\n"
     ]
    },
    {
     "ename": "RuntimeError",
     "evalue": "[polyscope]  [EXCEPTION] must initialize Polyscope with polyscope::init() before calling polyscope::show().",
     "output_type": "error",
     "traceback": [
      "\u001b[0;31m---------------------------------------------------------------------------\u001b[0m",
      "\u001b[0;31mRuntimeError\u001b[0m                              Traceback (most recent call last)",
      "Cell \u001b[0;32mIn[1], line 10\u001b[0m\n\u001b[1;32m      7\u001b[0m \u001b[38;5;28;01mimport\u001b[39;00m \u001b[38;5;21;01mmath\u001b[39;00m\n\u001b[1;32m      9\u001b[0m get_ipython()\u001b[38;5;241m.\u001b[39mrun_line_magic(\u001b[38;5;124m'\u001b[39m\u001b[38;5;124mgui\u001b[39m\u001b[38;5;124m'\u001b[39m, \u001b[38;5;124m'\u001b[39m\u001b[38;5;124mpolyscope\u001b[39m\u001b[38;5;124m'\u001b[39m)\n\u001b[0;32m---> 10\u001b[0m \u001b[43mps\u001b[49m\u001b[38;5;241;43m.\u001b[39;49m\u001b[43mshow\u001b[49m\u001b[43m(\u001b[49m\u001b[43m)\u001b[49m\n\u001b[1;32m     11\u001b[0m \u001b[38;5;66;03m# This will break because the initialization is not done yet \u001b[39;00m\n\u001b[1;32m     12\u001b[0m \u001b[38;5;66;03m# - but it is not an issue for the next steps\u001b[39;00m\n",
      "File \u001b[0;32m~/workbench/polymorph/.venv/lib/python3.12/site-packages/polyscope/core.py:25\u001b[0m, in \u001b[0;36mshow\u001b[0;34m(forFrames)\u001b[0m\n\u001b[1;32m     23\u001b[0m \u001b[38;5;250m\u001b[39m\u001b[38;5;124;03m\"\"\"Show the Polyscope GUI (blocks until UI is exited)\"\"\"\u001b[39;00m\n\u001b[1;32m     24\u001b[0m \u001b[38;5;28;01mif\u001b[39;00m forFrames \u001b[38;5;129;01mis\u001b[39;00m \u001b[38;5;28;01mNone\u001b[39;00m:\n\u001b[0;32m---> 25\u001b[0m     \u001b[43mpsb\u001b[49m\u001b[38;5;241;43m.\u001b[39;49m\u001b[43mshow\u001b[49m\u001b[43m(\u001b[49m\u001b[43m)\u001b[49m\n\u001b[1;32m     26\u001b[0m \u001b[38;5;28;01melse\u001b[39;00m:\n\u001b[1;32m     27\u001b[0m     psb\u001b[38;5;241m.\u001b[39mshow(forFrames)\n",
      "\u001b[0;31mRuntimeError\u001b[0m: [polyscope]  [EXCEPTION] must initialize Polyscope with polyscope::init() before calling polyscope::show()."
     ]
    }
   ],
   "source": [
    "import polyscope as ps\n",
    "import interactive_polyscope\n",
    "import polymorph_s2df as sdf\n",
    "from polymorph_s2df.devutils import *\n",
    "from polymorph_s2df import *\n",
    "from polymorph_num.expr import to_str\n",
    "import math\n",
    "\n",
    "%gui polyscope\n",
    "ps.show()\n",
    "# This will break because the initialization is not done yet \n",
    "# - but it is not an issue for the next steps"
   ]
  },
  {
   "cell_type": "code",
   "execution_count": null,
   "id": "272ea2dd-7acf-415a-b69d-9ef69bf94e52",
   "metadata": {},
   "outputs": [],
   "source": [
    "# Using the `np_eval` evaluation function. It is not the fastest,\n",
    "# but it works\n",
    "\n",
    "profile = (\n",
    "    draw((-0.1, 0))\n",
    "    .horizontal_line(0.2)\n",
    "    .line_to((0.05, 0.3))\n",
    "    .close()\n",
    "    .rotate(-math.pi / 2)\n",
    ")\n",
    "\n",
    "plane = XY_PLANE.translateTo((-1, 0, 0))\n",
    "enable_rotation_mode = True\n",
    "space = 0.2\n",
    "solid = (\n",
    "\tsweep(profile, plane)\n",
    "    .to_point((1, space, 0), enable_rotation_mode)\n",
    "    .to_point((-1, 2*space, 0), enable_rotation_mode)\n",
    "    .to_point((1, 3*space, 0), enable_rotation_mode)\n",
    "    .to_point((-1, 4*space, 0), enable_rotation_mode)\n",
    "    .to_solid()\n",
    ")\n",
    "\n",
    "\n",
    "render_solid(\n",
    "    solid, \n",
    "    bounds=(-1.5, 2), \n",
    "    n=100, \n",
    "    show_distances=False, \n",
    "    eval_fn=np_eval)\n",
    "ps.show()"
   ]
  },
  {
   "cell_type": "code",
   "execution_count": null,
   "id": "1f5abe82-b8cb-48da-a03e-2c4439976337",
   "metadata": {},
   "outputs": [],
   "source": [
    "# Using the same expr, but with the jax based eval_fn, I wait for a long\n",
    "# time, but it does not finish.\n",
    "\n",
    "render_solid(\n",
    "    solid, \n",
    "    bounds=(-1.5, 2), \n",
    "    n=100, \n",
    "    show_distances=False, \n",
    "    eval_fn=eval_expr)\n",
    "ps.show()"
   ]
  },
  {
   "cell_type": "code",
   "execution_count": null,
   "id": "8543ff07-9a82-4b20-b48c-16f228cc4484",
   "metadata": {},
   "outputs": [],
   "source": [
    "# Note that if you comment out all but one arc, it compiles, \n",
    "# but it is much slower than numpy\n",
    "\n",
    "solid2 = (\n",
    "\tsweep(profile, plane)\n",
    "    .to_point((1, space, 0), enable_rotation_mode)\n",
    "    #.to_point((-1, 2*space, 0), enable_rotation_mode)\n",
    "    #.to_point((1, 3*space, 0), enable_rotation_mode)\n",
    "    #.to_point((-1, 4*space, 0), enable_rotation_mode)\n",
    "    .to_solid()\n",
    ")\n",
    "render_solid(\n",
    "    solid2, \n",
    "    bounds=(-1.5, 2), \n",
    "    n=100, \n",
    "    show_distances=False, \n",
    "    eval_fn=eval_expr)\n",
    "ps.show()"
   ]
  },
  {
   "cell_type": "code",
   "execution_count": null,
   "id": "ae76e5de-c4d2-4637-b4c6-c2156b449bbf",
   "metadata": {},
   "outputs": [],
   "source": []
  }
 ],
 "metadata": {
  "kernelspec": {
   "display_name": "Python 3 (ipykernel)",
   "language": "python",
   "name": "python3"
  },
  "language_info": {
   "codemirror_mode": {
    "name": "ipython",
    "version": 3
   },
   "file_extension": ".py",
   "mimetype": "text/x-python",
   "name": "python",
   "nbconvert_exporter": "python",
   "pygments_lexer": "ipython3",
   "version": "3.12.3"
  }
 },
 "nbformat": 4,
 "nbformat_minor": 5
}
