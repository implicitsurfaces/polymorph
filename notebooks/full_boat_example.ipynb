{
 "cells": [
  {
   "cell_type": "markdown",
   "id": "01d310fd-c093-4272-a733-c80f6104e5fc",
   "metadata": {
    "jp-MarkdownHeadingCollapsed": true
   },
   "source": [
    "## SDF Library"
   ]
  },
  {
   "cell_type": "code",
   "execution_count": 1,
   "id": "8f4d156a-4373-44a4-b588-dec37404ebde",
   "metadata": {},
   "outputs": [],
   "source": [
    "import jax.numpy as jnp\n",
    "from jax.scipy.optimize import minimize\n",
    "import jax\n",
    "import matplotlib.pyplot as plt"
   ]
  },
  {
   "cell_type": "code",
   "execution_count": 2,
   "id": "ddaa57dc-c9eb-4d63-8fe6-39f9a2fcc780",
   "metadata": {},
   "outputs": [],
   "source": [
    "def _length(a):\n",
    "    return jnp.linalg.norm(a, axis=1)\n",
    "\n",
    "ORIGIN = jnp.array((0, 0))\n",
    "\n",
    "SEED = jax.random.PRNGKey(0)\n",
    "\n",
    "\n",
    "def circle(radius=1, center=(0, 0)):\n",
    "    center = jnp.array(center)\n",
    "    def f(p):\n",
    "        return _length(p - center) - radius\n",
    "\n",
    "    return f\n",
    "\n",
    "def translate(sdf, offset):\n",
    "    offset = jnp.array(offset)\n",
    "    def f(p):\n",
    "        return sdf(p - offset)\n",
    "\n",
    "    return f\n",
    "\n",
    "\n",
    "def rotate(sdf, angle):\n",
    "    s = jnp.sin(angle)\n",
    "    c = jnp.cos(angle)\n",
    "    m = 1 - c\n",
    "    matrix = jnp.array(\n",
    "        [\n",
    "            [c, -s],\n",
    "            [s, c],\n",
    "        ]\n",
    "    ).T\n",
    "\n",
    "    def f(p):\n",
    "        return sdf(jnp.dot(p, matrix))\n",
    "\n",
    "    return f\n",
    "\n",
    "def rotate_around_center(sdf, angle, center):\n",
    "    center = jnp.array(center)\n",
    "\n",
    "    def f(p):\n",
    "        v = translate(rotate(translate(sdf, -center), angle), center)(p)\n",
    "        return v\n",
    "\n",
    "    return f\n",
    "\n",
    "def rectangle(size=1, center=(0, 0)):\n",
    "    center = jnp.array(center)\n",
    "    size = jnp.array(size)\n",
    "\n",
    "    def f(p):\n",
    "        q = jnp.abs(p - center) - size / 2\n",
    "        return _length(jnp.maximum(q, 0)) + jnp.minimum(jnp.amax(q, axis=1), 0)\n",
    "\n",
    "    return f\n",
    "\n",
    "def bottom_half_plane(p):\n",
    "    return p[:, 1]\n",
    "\n",
    "def intersection(sdf1, sdf2):\n",
    "    def f(p):\n",
    "        return jnp.maximum(sdf1(p), sdf2(p))\n",
    "    return f\n",
    "    \n"
   ]
  },
  {
   "cell_type": "code",
   "execution_count": 3,
   "id": "5a96ca37-c072-4c3f-9331-6c6e515f9490",
   "metadata": {},
   "outputs": [],
   "source": [
    "def show_sdf(sdf, bounds=(-1, 1), n=500):\n",
    "    x = jnp.linspace(bounds[0], bounds[1], n)\n",
    "    X, Y = jnp.meshgrid(x, x)\n",
    "\n",
    "    grid_points = jnp.column_stack((X.flatten(), Y.flatten()))\n",
    "    plt.imshow(1-inside(sdf)(grid_points).reshape(n, n), cmap=\"gray\", origin=\"lower\", extent=[bounds[0], bounds[1],bounds[0], bounds[1]])"
   ]
  },
  {
   "cell_type": "code",
   "execution_count": 4,
   "id": "4a8125d3-42ac-4102-95ef-843905181ba0",
   "metadata": {},
   "outputs": [],
   "source": [
    "N = 1000\n",
    "shape = (N, 2)\n",
    "dtype = jnp.float32\n",
    "\n",
    "def naive_area(sdf, bounds=[-1, 1], n=1000):\n",
    "    points = jax.random.uniform(SEED, (n, 2), jnp.float32, bounds[0], bounds[1])\n",
    "    computed_sdf = sdf(random_numbers) < 0\n",
    "    return jnp.sum(computed_sdf) / n * (bounds[1] - bounds[0])**2"
   ]
  },
  {
   "cell_type": "code",
   "execution_count": 5,
   "id": "67f0eecb-f1c7-4a35-85e8-aca8b6bc076a",
   "metadata": {},
   "outputs": [],
   "source": [
    "def inside(sdf):\n",
    "   def f(p):\n",
    "       distance = sdf(p)\n",
    "       return 1-jax.nn.sigmoid(100* distance)\n",
    "\n",
    "   return f"
   ]
  },
  {
   "cell_type": "code",
   "execution_count": 6,
   "id": "09088527-fb99-4f93-924d-0aab4424518f",
   "metadata": {},
   "outputs": [],
   "source": [
    "def area(sdf, bounds=[-1, 1], n=1000):\n",
    "    points = jax.random.uniform(SEED, (n, 2), jnp.float32, bounds[0], bounds[1])\n",
    "    computed_sdf = inside(sdf)(points)\n",
    "    return jnp.sum(computed_sdf) / n * (bounds[1] - bounds[0])**2\n",
    "    "
   ]
  },
  {
   "cell_type": "code",
   "execution_count": 7,
   "id": "13adec9b-f801-49d4-a163-1a2dc4e58480",
   "metadata": {},
   "outputs": [],
   "source": [
    "def centroid(sdf, bounds=[-1, 1], n=1000):\n",
    "    points = jax.random.uniform(SEED, (n, 2), jnp.float32, bounds[0], bounds[1])\n",
    "    inside_points = inside(sdf)(points)\n",
    "    return jnp.average(points, weights=inside_points, axis=0)"
   ]
  },
  {
   "cell_type": "markdown",
   "id": "6b13bce3-463f-4bf0-bca6-95727cccfb9e",
   "metadata": {},
   "source": [
    "## The boat problem"
   ]
  },
  {
   "cell_type": "code",
   "execution_count": 8,
   "id": "203d06aa-e702-48c6-ad80-9a3df861ea09",
   "metadata": {},
   "outputs": [],
   "source": [
    "RELATIVE_DENSITY = 0.5\n",
    "SAMPLE_SIZE = 10000\n",
    "INTEGRATION_BOUNDS = (-3, 3)"
   ]
  },
  {
   "cell_type": "code",
   "execution_count": 9,
   "id": "84af2c70-56f1-4b08-b3c0-51a1e1d1cb47",
   "metadata": {},
   "outputs": [],
   "source": [
    "def update_position(original_shape, original_shape_center, p1, p2):\n",
    "    return translate(rotate_around_center(original_shape, p1, original_shape_center), (0, p2))\n",
    "\n",
    "def alignment_cost(shape):\n",
    "    shape_center_of_gravity = centroid(shape, bounds=INTEGRATION_BOUNDS, n=SAMPLE_SIZE)\n",
    "    shape_area = area(shape, bounds=(-5, 5), n=SAMPLE_SIZE)\n",
    "\n",
    "    shape_weight = shape_area * RELATIVE_DENSITY\n",
    "\n",
    "    displacement = intersection(bottom_half_plane, shape)\n",
    "    buoyancy_center = centroid(displacement, bounds=INTEGRATION_BOUNDS, n=SAMPLE_SIZE)\n",
    "\n",
    "    displacement_weight = area(displacement, bounds=INTEGRATION_BOUNDS, n=SAMPLE_SIZE)\n",
    "\n",
    "    gravity_cost = displacement_weight - shape_weight\n",
    "    torque_cost = (buoyancy_center - shape_center_of_gravity)[0]\n",
    "\n",
    "    return jnp.linalg.norm(jnp.array([gravity_cost, torque_cost]))"
   ]
  },
  {
   "cell_type": "code",
   "execution_count": 25,
   "id": "471d6aad-fcd1-4637-b9f7-1f308c7cfc0a",
   "metadata": {},
   "outputs": [],
   "source": [
    "def center_of_gravity(shape):\n",
    "    return centroid(shape, bounds=INTEGRATION_BOUNDS, n=SAMPLE_SIZE)\n",
    "\n",
    "def center_of_buoyancy(shape):\n",
    "    displacement = intersection(bottom_half_plane, shape)\n",
    "    return centroid(displacement, bounds=INTEGRATION_BOUNDS, n=SAMPLE_SIZE)\n"
   ]
  },
  {
   "cell_type": "code",
   "execution_count": 34,
   "id": "0201d846-4067-47fa-8489-f180bf51c953",
   "metadata": {},
   "outputs": [],
   "source": [
    "def find_equilibrium(shape):\n",
    "    shape_cof = center_of_gravity(shape)\n",
    "    def cost(x):\n",
    "        cost = alignment_cost(update_position(shape, shape_cof, x[0], x[1]))\n",
    "        return cost\n",
    "\n",
    "    res = minimize(jax.jit(cost), jnp.array((0., 0.)), method=\"BFGS\")\n",
    "\n",
    "    print(\"iterations\", res.nit)\n",
    "    print(\"end position change\", res.x)\n",
    "\n",
    "    end_shape = update_position(shape, shape_cof, res.x[0], res.x[1])\n",
    "    print(\"final cost\", alignment_cost(end_shape))\n",
    "\n",
    "    show_sdf(end_shape, bounds=(-3, 3))\n",
    "\n",
    "    plt.scatter(*center_of_gravity(end_shape), c=\"red\")\n",
    "    plt.scatter(*center_of_buoyancy(end_shape), c=\"blue\")"
   ]
  },
  {
   "cell_type": "code",
   "execution_count": 41,
   "id": "39668f82-3cce-4e22-ba39-3ffef64cdbe5",
   "metadata": {},
   "outputs": [],
   "source": [
    "def grad_at_origin(shape):\n",
    "    shape_cof = center_of_gravity(shape)\n",
    "\n",
    "    def cost(x, y):\n",
    "        return alignment_cost(update_position(shape, shape_cof, x, y))\n",
    "    return jax.value_and_grad(cost, (0, 1))(jnp.array(0.0), jnp.array(0.0))\n"
   ]
  },
  {
   "cell_type": "markdown",
   "id": "78b704bc-912c-44ef-b401-9948644d7c2c",
   "metadata": {
    "jp-MarkdownHeadingCollapsed": true
   },
   "source": [
    "### Solving the equilibrium of a rectangle"
   ]
  },
  {
   "cell_type": "code",
   "execution_count": 45,
   "id": "dd4524fa-ec0a-4039-9b7b-64c0d6fc541a",
   "metadata": {},
   "outputs": [
    {
     "data": {
      "image/png": "[encoded data removed]",
      "text/plain": [
       "<Figure size 640x480 with 1 Axes>"
      ]
     },
     "metadata": {},
     "output_type": "display_data"
    }
   ],
   "source": [
    "rectangle_sdf = translate(rotate(rectangle((1,0.5)), jnp.pi / 3), (0, 0.1))\n",
    "show_sdf(rectangle_sdf)"
   ]
  },
  {
   "cell_type": "code",
   "execution_count": 44,
   "id": "3e9a361f-5a06-45e7-a422-406122e0f00b",
   "metadata": {},
   "outputs": [
    {
     "data": {
      "text/plain": [
       "(Array(0.13457096, dtype=float32),\n",
       " (Array(nan, dtype=float32, weak_type=True),\n",
       "  Array(nan, dtype=float32, weak_type=True)))"
      ]
     },
     "execution_count": 44,
     "metadata": {},
     "output_type": "execute_result"
    }
   ],
   "source": [
    "grad_at_origin(rectangle_sdf)"
   ]
  },
  {
   "cell_type": "markdown",
   "id": "5b3b1d76-039d-4414-b261-11f452ab7d65",
   "metadata": {},
   "source": [
    "We have a problem here - the grad at the origin is nan. I guess this comes from the amin function used in the (copied from sdfCAD) definition of the rectangle. We should probably look into improving this.\n",
    "\n",
    "In order to figure out what is going on - let's try something easier - a circle."
   ]
  },
  {
   "cell_type": "markdown",
   "id": "fcec141f-c56b-4ff3-8865-d02759e9c5c4",
   "metadata": {},
   "source": [
    "### Solving the equilibrium of a circle"
   ]
  },
  {
   "cell_type": "code",
   "execution_count": 42,
   "id": "d16c1de1-c672-47f0-b5c5-e4df2de47ac2",
   "metadata": {},
   "outputs": [
    {
     "data": {
      "text/plain": [
       "(Array(0.89770174, dtype=float32),\n",
       " (Array(-0.03325758, dtype=float32, weak_type=True),\n",
       "  Array(-2.035065, dtype=float32, weak_type=True)))"
      ]
     },
     "execution_count": 42,
     "metadata": {},
     "output_type": "execute_result"
    }
   ],
   "source": [
    "grad_at_origin(circle(1, (0, -0.5)))"
   ]
  },
  {
   "cell_type": "code",
   "execution_count": 35,
   "id": "2b4aabf0-059f-492c-be37-80210daefa9a",
   "metadata": {},
   "outputs": [
    {
     "name": "stdout",
     "output_type": "stream",
     "text": [
      "iterations 10\n",
      "end position change [0.40803742 0.49084246]\n",
      "final cost 0.008205301\n"
     ]
    },
    {
     "data": {
      "image/png": "[encoded data removed]",
      "text/plain": [
       "<Figure size 640x480 with 1 Axes>"
      ]
     },
     "metadata": {},
     "output_type": "display_data"
    }
   ],
   "source": [
    "find_equilibrium(circle(1, (0, -0.5)))"
   ]
  },
  {
   "cell_type": "code",
   "execution_count": null,
   "id": "af8eef8b-0191-42f2-b795-04cfd0bd360d",
   "metadata": {},
   "outputs": [],
   "source": [
    "Yeah, it work - but this is only concerned with gravity. Let's try something a bit less symmetric"
   ]
  },
  {
   "cell_type": "markdown",
   "id": "cb03fa22-294c-47ed-873c-847595f84a3c",
   "metadata": {
    "jp-MarkdownHeadingCollapsed": true
   },
   "source": [
    "### Solving the equilibrium of a partial circle"
   ]
  },
  {
   "cell_type": "code",
   "execution_count": 20,
   "id": "7e8af6f1-f5ed-4166-a603-6742e49c0cae",
   "metadata": {},
   "outputs": [
    {
     "data": {
      "image/png": "[encoded data removed]",
      "text/plain": [
       "<Figure size 640x480 with 1 Axes>"
      ]
     },
     "metadata": {},
     "output_type": "display_data"
    }
   ],
   "source": [
    "partial_circle = rotate(intersection(translate(circle(), (0, -0.2)), bottom_half_plane), 0.2)\n",
    "\n",
    "show_sdf(partial_circle, bounds=[-2, 2])"
   ]
  },
  {
   "cell_type": "code",
   "execution_count": 43,
   "id": "9db156ee-16dc-4d9c-99a6-35aac1d3ca63",
   "metadata": {},
   "outputs": [
    {
     "data": {
      "text/plain": [
       "(Array(0.8543954, dtype=float32),\n",
       " (Array(-0.51542485, dtype=float32, weak_type=True),\n",
       "  Array(-0.26591748, dtype=float32, weak_type=True)))"
      ]
     },
     "execution_count": 43,
     "metadata": {},
     "output_type": "execute_result"
    }
   ],
   "source": [
    "grad_at_origin(partial_circle)"
   ]
  },
  {
   "cell_type": "code",
   "execution_count": 36,
   "id": "db773980-7a10-4a25-aa95-251e5851e77d",
   "metadata": {},
   "outputs": [
    {
     "name": "stdout",
     "output_type": "stream",
     "text": [
      "iterations 2\n",
      "end position change [1.0308497  0.53183496]\n",
      "final cost 0.102793306\n"
     ]
    },
    {
     "data": {
      "image/png": "[encoded data removed]",
      "text/plain": [
       "<Figure size 640x480 with 1 Axes>"
      ]
     },
     "metadata": {},
     "output_type": "display_data"
    }
   ],
   "source": [
    "find_equilibrium(partial_circle)"
   ]
  },
  {
   "cell_type": "markdown",
   "id": "e5c5da71-da65-4b4b-9e8c-9fbdf2ae107f",
   "metadata": {},
   "source": [
    "It does not seem to converge to a place with cost 0... There is either a bug, a bad cost function or something wrong with our approach"
   ]
  }
 ],
 "metadata": {
  "kernelspec": {
   "display_name": "Python 3 (ipykernel)",
   "language": "python",
   "name": "python3"
  },
  "language_info": {
   "codemirror_mode": {
    "name": "ipython",
    "version": 3
   },
   "file_extension": ".py",
   "mimetype": "text/x-python",
   "name": "python",
   "nbconvert_exporter": "python",
   "pygments_lexer": "ipython3",
   "version": "3.12.3"
  }
 },
 "nbformat": 4,
 "nbformat_minor": 5
}
