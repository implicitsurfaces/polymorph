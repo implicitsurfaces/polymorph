{
 "cells": [
  {
   "cell_type": "markdown",
   "id": "01d310fd-c093-4272-a733-c80f6104e5fc",
   "metadata": {
    "id": "01d310fd-c093-4272-a733-c80f6104e5fc",
    "jp-MarkdownHeadingCollapsed": true
   },
   "source": [
    "## SDF Library"
   ]
  },
  {
   "cell_type": "code",
   "execution_count": 1,
   "id": "8f4d156a-4373-44a4-b588-dec37404ebde",
   "metadata": {
    "id": "8f4d156a-4373-44a4-b588-dec37404ebde"
   },
   "outputs": [],
   "source": [
    "import jax.numpy as jnp\n",
    "import jax\n",
    "import matplotlib.pyplot as plt\n",
    "import optax\n",
    "from timeit import default_timer as timer\n"
   ]
  },
  {
   "cell_type": "code",
   "execution_count": 2,
   "id": "ddaa57dc-c9eb-4d63-8fe6-39f9a2fcc780",
   "metadata": {
    "id": "ddaa57dc-c9eb-4d63-8fe6-39f9a2fcc780"
   },
   "outputs": [],
   "source": [
    "def _length(a):\n",
    "    return jnp.linalg.norm(a, axis=1)\n",
    "\n",
    "def _soft_plus(value):\n",
    "    return jax.nn.softplus(50 * value) / 50\n",
    "\n",
    "def _soft_minus(value):\n",
    "    return -jax.nn.softplus(50 * -value) / 50\n",
    "\n",
    "ORIGIN = jnp.array((0, 0))\n",
    "\n",
    "SEED = jax.random.PRNGKey(0)\n",
    "def seed():\n",
    "    global SEED\n",
    "    SEED, _ = jax.random.split(SEED)\n",
    "\n",
    "def circle(radius=1, center=(0, 0)):\n",
    "    center = jnp.array(center)\n",
    "    def f(p):\n",
    "        return _length(p - center) - radius\n",
    "\n",
    "    return f\n",
    "\n",
    "def translate(sdf, offset):\n",
    "    offset = jnp.array(offset)\n",
    "    def f(p):\n",
    "        return sdf(p - offset)\n",
    "\n",
    "    return f\n",
    "\n",
    "\n",
    "def rotate(sdf, angle):\n",
    "    s = jnp.sin(angle)\n",
    "    c = jnp.cos(angle)\n",
    "    m = 1 - c\n",
    "    matrix = jnp.array(\n",
    "        [\n",
    "            [c, -s],\n",
    "            [s, c],\n",
    "        ]\n",
    "    ).T\n",
    "\n",
    "    def f(p):\n",
    "        return sdf(jnp.dot(p, matrix))\n",
    "\n",
    "    return f\n",
    "\n",
    "def rotate_around_center(sdf, angle, center):\n",
    "    center = jnp.array(center)\n",
    "\n",
    "    def f(p):\n",
    "        v = translate(rotate(translate(sdf, -center), angle), center)(p)\n",
    "        return v\n",
    "\n",
    "    return f\n",
    "\n",
    "def rectangle(size=1, center=(0, 0)):\n",
    "    center = jnp.array(center)\n",
    "    size = jnp.array(size)\n",
    "\n",
    "    def f(p):\n",
    "        q = jnp.abs(p - center) - size / 2\n",
    "        return _length(_soft_plus(q)) + _soft_minus(jnp.amax(q, axis=1))\n",
    "\n",
    "    return f\n",
    "\n",
    "def bottom_half_plane(p):\n",
    "    return p[:, 1]\n",
    "\n",
    "def intersection(sdf1, sdf2):\n",
    "    def f(p):\n",
    "        return jnp.maximum(sdf1(p), sdf2(p))\n",
    "    return f\n",
    "\n"
   ]
  },
  {
   "cell_type": "code",
   "execution_count": 3,
   "id": "5a96ca37-c072-4c3f-9331-6c6e515f9490",
   "metadata": {
    "id": "5a96ca37-c072-4c3f-9331-6c6e515f9490"
   },
   "outputs": [],
   "source": [
    "def show_sdf(sdf, bounds=(-1, 1), n=500):\n",
    "    x = jnp.linspace(bounds[0], bounds[1], n)\n",
    "    X, Y = jnp.meshgrid(x, x)\n",
    "\n",
    "    grid_points = jnp.column_stack((X.flatten(), Y.flatten()))\n",
    "    plt.imshow(1-inside(sdf)(grid_points).reshape(n, n), cmap=\"gray\", origin=\"lower\", extent=[bounds[0], bounds[1],bounds[0], bounds[1]])"
   ]
  },
  {
   "cell_type": "code",
   "execution_count": 4,
   "id": "4a8125d3-42ac-4102-95ef-843905181ba0",
   "metadata": {
    "id": "4a8125d3-42ac-4102-95ef-843905181ba0"
   },
   "outputs": [],
   "source": [
    "N = 100000\n",
    "shape = (N, 2)\n",
    "dtype = jnp.float64\n",
    "\n",
    "def naive_area(sdf, bounds=[-1, 1], n=1000):\n",
    "    points = jax.random.uniform(SEED, (n, 2), jnp.float32, bounds[0], bounds[1])\n",
    "    computed_sdf = sdf(random_numbers) < 0\n",
    "    return jnp.sum(computed_sdf) / n * (bounds[1] - bounds[0])**2"
   ]
  },
  {
   "cell_type": "code",
   "execution_count": 5,
   "id": "67f0eecb-f1c7-4a35-85e8-aca8b6bc076a",
   "metadata": {
    "id": "67f0eecb-f1c7-4a35-85e8-aca8b6bc076a"
   },
   "outputs": [],
   "source": [
    "def inside(sdf):\n",
    "   def f(p):\n",
    "       distance = sdf(p)\n",
    "       return 1-jax.nn.sigmoid(100* distance)\n",
    "\n",
    "   return f"
   ]
  },
  {
   "cell_type": "code",
   "execution_count": 6,
   "id": "09088527-fb99-4f93-924d-0aab4424518f",
   "metadata": {
    "id": "09088527-fb99-4f93-924d-0aab4424518f"
   },
   "outputs": [],
   "source": [
    "def area(sdf, points, bounds=[-1, 1]):\n",
    "    computed_sdf = inside(sdf)(points)\n",
    "    return jnp.average(computed_sdf, axis=0) * (bounds[1] - bounds[0])**2\n"
   ]
  },
  {
   "cell_type": "code",
   "execution_count": 7,
   "id": "13adec9b-f801-49d4-a163-1a2dc4e58480",
   "metadata": {
    "id": "13adec9b-f801-49d4-a163-1a2dc4e58480"
   },
   "outputs": [],
   "source": [
    "def centroid(sdf, points, bounds=[-1, 1]):\n",
    "    inside_points = inside(sdf)(points)\n",
    "    return jnp.average(points, weights=inside_points, axis=0)"
   ]
  },
  {
   "cell_type": "markdown",
   "id": "6b13bce3-463f-4bf0-bca6-95727cccfb9e",
   "metadata": {
    "id": "6b13bce3-463f-4bf0-bca6-95727cccfb9e"
   },
   "source": [
    "## The boat problem"
   ]
  },
  {
   "cell_type": "code",
   "execution_count": 8,
   "id": "203d06aa-e702-48c6-ad80-9a3df861ea09",
   "metadata": {
    "id": "203d06aa-e702-48c6-ad80-9a3df861ea09"
   },
   "outputs": [],
   "source": [
    "RELATIVE_DENSITY = 0.5\n",
    "SAMPLE_SIZE = 10000\n",
    "INTEGRATION_BOUNDS = (-3, 3)"
   ]
  },
  {
   "cell_type": "code",
   "execution_count": 9,
   "id": "84af2c70-56f1-4b08-b3c0-51a1e1d1cb47",
   "metadata": {
    "id": "84af2c70-56f1-4b08-b3c0-51a1e1d1cb47"
   },
   "outputs": [],
   "source": [
    "def update_position(original_shape, original_shape_center, p1, p2):\n",
    "    return translate(rotate_around_center(original_shape, jnp.atan(p1), original_shape_center), (0, p2))\n",
    "\n",
    "def alignment_cost(shape, points):\n",
    "    shape_center_of_gravity = centroid(shape, points, bounds=INTEGRATION_BOUNDS)\n",
    "    shape_area = area(shape, points, bounds=INTEGRATION_BOUNDS)\n",
    "\n",
    "    shape_weight = shape_area * RELATIVE_DENSITY\n",
    "\n",
    "    displacement = intersection(bottom_half_plane, shape)\n",
    "    buoyancy_center = centroid(displacement, points, bounds=INTEGRATION_BOUNDS)\n",
    "\n",
    "    displacement_weight = area(displacement, points, bounds=INTEGRATION_BOUNDS)\n",
    "\n",
    "    gravity_cost = displacement_weight - shape_weight\n",
    "    torque_cost = (buoyancy_center - shape_center_of_gravity)[0]\n",
    "\n",
    "    costs = jnp.array([gravity_cost, torque_cost])\n",
    "    return jnp.dot(costs, costs)"
   ]
  },
  {
   "cell_type": "markdown",
   "id": "5dda5330-620b-4d4d-aaaa-fa9e744598a2",
   "metadata": {
    "id": "5dda5330-620b-4d4d-aaaa-fa9e744598a2",
    "jp-MarkdownHeadingCollapsed": true
   },
   "source": [
    "#### Helper functions"
   ]
  },
  {
   "cell_type": "code",
   "execution_count": 10,
   "id": "471d6aad-fcd1-4637-b9f7-1f308c7cfc0a",
   "metadata": {
    "id": "471d6aad-fcd1-4637-b9f7-1f308c7cfc0a"
   },
   "outputs": [],
   "source": [
    "def center_of_gravity(shape, points):\n",
    "    return centroid(shape, points, bounds=INTEGRATION_BOUNDS)\n",
    "\n",
    "def center_of_buoyancy(shape, points):\n",
    "    displacement = intersection(bottom_half_plane, shape)\n",
    "    return centroid(displacement, points, bounds=INTEGRATION_BOUNDS)\n"
   ]
  },
  {
   "cell_type": "code",
   "execution_count": 11,
   "id": "5f1952ac-f5a4-413b-97b7-3e8f5b0d6704",
   "metadata": {
    "id": "5f1952ac-f5a4-413b-97b7-3e8f5b0d6704"
   },
   "outputs": [],
   "source": [
    "solver = optax.rmsprop(learning_rate=0.003)"
   ]
  },
  {
   "cell_type": "code",
   "execution_count": 12,
   "id": "0201d846-4067-47fa-8489-f180bf51c953",
   "metadata": {
    "id": "0201d846-4067-47fa-8489-f180bf51c953"
   },
   "outputs": [],
   "source": [
    "def find_equilibrium(shape, reset_seed=False, sample_size = 10000, iterations=500):\n",
    "    seed = SEED\n",
    "    points = jax.random.uniform(seed, (sample_size, 2), jnp.float32, INTEGRATION_BOUNDS[0], INTEGRATION_BOUNDS[1])\n",
    "    shape_cof = center_of_gravity(shape, points)\n",
    "\n",
    "    @jax.jit\n",
    "    def cost(x, pts):\n",
    "        cost = alignment_cost(update_position(shape, shape_cof, x[0], x[1]), pts)\n",
    "        return cost\n",
    "\n",
    "    cost_grad = jax.grad(cost)\n",
    "    params = (0.,0.)\n",
    "    opt_state = solver.init(params)\n",
    "    for i in range(iterations):\n",
    "        if reset_seed:\n",
    "            seed, rng = jax.random.split(seed)\n",
    "            points = jax.random.uniform(rng, (sample_size, 2), jnp.float32, INTEGRATION_BOUNDS[0], INTEGRATION_BOUNDS[1])\n",
    "        grad = cost_grad(params, points)\n",
    "        updates, opt_state = solver.update(grad, opt_state, params)\n",
    "        params = optax.apply_updates(params, updates)\n",
    "        err = cost(params, points)\n",
    "        if (i % 100 == 0):\n",
    "            print('Cost: {:.2E}'.format(err))\n",
    "\n",
    "    print(\"translation\", params[0])\n",
    "    print(\"rotation\", jnp.atan(params[1]))\n",
    "\n",
    "    end_shape = update_position(shape, shape_cof, params[0], params[1])\n",
    "\n",
    "    show_sdf(end_shape, bounds=(-3, 3))\n",
    "\n",
    "    plt.scatter(*center_of_gravity(end_shape, points), c=\"red\")\n",
    "    plt.scatter(*center_of_buoyancy(end_shape, points), c=\"blue\")"
   ]
  },
  {
   "cell_type": "code",
   "execution_count": 13,
   "id": "39668f82-3cce-4e22-ba39-3ffef64cdbe5",
   "metadata": {
    "id": "39668f82-3cce-4e22-ba39-3ffef64cdbe5"
   },
   "outputs": [],
   "source": [
    "def grad_at_origin(shape):\n",
    "    points = jax.random.uniform(SEED, (10000, 2), jnp.float32, INTEGRATION_BOUNDS[0], INTEGRATION_BOUNDS[1])\n",
    "    shape_cof = center_of_gravity(shape, points)\n",
    "\n",
    "    def cost(x, y):\n",
    "        return alignment_cost(update_position(shape, shape_cof, x, y), points)\n",
    "    return jax.value_and_grad(cost, (0, 1))(jnp.array(0.0), jnp.array(0.0))\n"
   ]
  },
  {
   "cell_type": "markdown",
   "id": "78b704bc-912c-44ef-b401-9948644d7c2c",
   "metadata": {
    "id": "78b704bc-912c-44ef-b401-9948644d7c2c"
   },
   "source": [
    "### Solving the equilibrium of a rectangle"
   ]
  },
  {
   "cell_type": "code",
   "execution_count": 14,
   "id": "dd4524fa-ec0a-4039-9b7b-64c0d6fc541a",
   "metadata": {
    "colab": {
     "base_uri": "https://localhost:8080/",
     "height": 435
    },
    "id": "dd4524fa-ec0a-4039-9b7b-64c0d6fc541a",
    "outputId": "36cddd1f-a455-451a-e762-7431fc6957ab"
   },
   "outputs": [
    {
     "data": {
      "image/png": "[encoded data removed]",
      "text/plain": [
       "<Figure size 640x480 with 1 Axes>"
      ]
     },
     "metadata": {},
     "output_type": "display_data"
    }
   ],
   "source": [
    "rectangle_sdf = translate(rotate(rectangle((1,0.5)), jnp.pi / 3), (0, 0.1))\n",
    "show_sdf(rectangle_sdf)"
   ]
  },
  {
   "cell_type": "code",
   "execution_count": 15,
   "id": "3e9a361f-5a06-45e7-a422-406122e0f00b",
   "metadata": {
    "colab": {
     "base_uri": "https://localhost:8080/"
    },
    "id": "3e9a361f-5a06-45e7-a422-406122e0f00b",
    "outputId": "e69f8085-01f7-4a1b-8f72-92f6be30e41e"
   },
   "outputs": [
    {
     "data": {
      "text/plain": [
       "(Array(0.02129858, dtype=float32),\n",
       " (Array(-0.06860957, dtype=float32, weak_type=True),\n",
       "  Array(0.16273999, dtype=float32, weak_type=True)))"
      ]
     },
     "execution_count": 15,
     "metadata": {},
     "output_type": "execute_result"
    }
   ],
   "source": [
    "grad_at_origin(rectangle_sdf)"
   ]
  },
  {
   "cell_type": "code",
   "execution_count": 16,
   "id": "ef9c9add-bebc-4428-9e24-afa7820ea36d",
   "metadata": {
    "id": "5b3b1d76-039d-4414-b261-11f452ab7d65"
   },
   "outputs": [
    {
     "name": "stdout",
     "output_type": "stream",
     "text": [
      "Cost: 1.19E-02\n",
      "Cost: 3.23E-03\n",
      "Cost: 5.90E-04\n",
      "Cost: 3.37E-04\n",
      "Cost: 3.19E-04\n",
      "translation 0.5744828\n",
      "rotation -0.08285609\n"
     ]
    },
    {
     "data": {
      "image/png": "[encoded data removed]",
      "text/plain": [
       "<Figure size 640x480 with 1 Axes>"
      ]
     },
     "metadata": {},
     "output_type": "display_data"
    }
   ],
   "source": [
    "find_equilibrium(rectangle_sdf, True, 10000, 500)"
   ]
  },
  {
   "cell_type": "markdown",
   "id": "fcec141f-c56b-4ff3-8865-d02759e9c5c4",
   "metadata": {
    "id": "fcec141f-c56b-4ff3-8865-d02759e9c5c4",
    "jp-MarkdownHeadingCollapsed": true
   },
   "source": [
    "### Solving the equilibrium of a circle"
   ]
  },
  {
   "cell_type": "code",
   "execution_count": 17,
   "id": "d16c1de1-c672-47f0-b5c5-e4df2de47ac2",
   "metadata": {
    "colab": {
     "base_uri": "https://localhost:8080/"
    },
    "id": "d16c1de1-c672-47f0-b5c5-e4df2de47ac2",
    "outputId": "bae306bc-cf68-4490-a07b-6bec66e91a91"
   },
   "outputs": [
    {
     "data": {
      "text/plain": [
       "(Array(0.9751049, dtype=float32),\n",
       " (Array(-0.05767911, dtype=float32, weak_type=True),\n",
       "  Array(-4.091809, dtype=float32, weak_type=True)))"
      ]
     },
     "execution_count": 17,
     "metadata": {},
     "output_type": "execute_result"
    }
   ],
   "source": [
    "grad_at_origin(circle(1, (0, -0.5)))"
   ]
  },
  {
   "cell_type": "code",
   "execution_count": 18,
   "id": "2b4aabf0-059f-492c-be37-80210daefa9a",
   "metadata": {
    "colab": {
     "base_uri": "https://localhost:8080/",
     "height": 560
    },
    "id": "2b4aabf0-059f-492c-be37-80210daefa9a",
    "outputId": "38af3541-6159-4673-dab4-a6d511c7e8ba"
   },
   "outputs": [
    {
     "name": "stdout",
     "output_type": "stream",
     "text": [
      "Cost: 1.18E+00\n",
      "Cost: 4.61E-02\n",
      "Cost: 1.31E-01\n",
      "Cost: 1.85E-02\n",
      "Cost: 1.73E-02\n",
      "Cost: 1.30E-02\n",
      "Cost: 2.21E-02\n",
      "Cost: 5.56E-03\n",
      "Cost: 4.48E-03\n",
      "Cost: 6.92E-03\n",
      "translation -0.3971846\n",
      "rotation 0.44623542\n"
     ]
    },
    {
     "data": {
      "image/png": "[encoded data removed]",
      "text/plain": [
       "<Figure size 640x480 with 1 Axes>"
      ]
     },
     "metadata": {},
     "output_type": "display_data"
    }
   ],
   "source": [
    "find_equilibrium(circle(1, (0, -0.5)), True, 1000, 1000)"
   ]
  },
  {
   "cell_type": "markdown",
   "id": "a0e6b282-980b-4b05-9bf0-05c85e40bc28",
   "metadata": {
    "id": "a0e6b282-980b-4b05-9bf0-05c85e40bc28"
   },
   "source": [
    "Yeah, it work - but this is only concerned with gravity. Let's try something a bit less symmetrical."
   ]
  },
  {
   "cell_type": "markdown",
   "id": "cb03fa22-294c-47ed-873c-847595f84a3c",
   "metadata": {
    "id": "cb03fa22-294c-47ed-873c-847595f84a3c",
    "jp-MarkdownHeadingCollapsed": true
   },
   "source": [
    "### Solving the equilibrium of a partial circle"
   ]
  },
  {
   "cell_type": "code",
   "execution_count": 19,
   "id": "7e8af6f1-f5ed-4166-a603-6742e49c0cae",
   "metadata": {
    "colab": {
     "base_uri": "https://localhost:8080/",
     "height": 435
    },
    "id": "7e8af6f1-f5ed-4166-a603-6742e49c0cae",
    "outputId": "17d8d7f7-b332-4992-a8f9-ad272a37234b"
   },
   "outputs": [
    {
     "data": {
      "image/png": "[encoded data removed]",
      "text/plain": [
       "<Figure size 640x480 with 1 Axes>"
      ]
     },
     "metadata": {},
     "output_type": "display_data"
    }
   ],
   "source": [
    "partial_circle = rotate(intersection(translate(circle(), (0, -0.2)), bottom_half_plane), 0.2)\n",
    "\n",
    "show_sdf(partial_circle, bounds=[-2, 2])"
   ]
  },
  {
   "cell_type": "code",
   "execution_count": 20,
   "id": "9db156ee-16dc-4d9c-99a6-35aac1d3ca63",
   "metadata": {
    "colab": {
     "base_uri": "https://localhost:8080/"
    },
    "id": "9db156ee-16dc-4d9c-99a6-35aac1d3ca63",
    "outputId": "9e51a4b2-5f23-4243-8d34-c77c8e03ee97"
   },
   "outputs": [
    {
     "data": {
      "text/plain": [
       "(Array(0.7724121, dtype=float32),\n",
       " (Array(-0.8880811, dtype=float32, weak_type=True),\n",
       "  Array(-1.109529, dtype=float32, weak_type=True)))"
      ]
     },
     "execution_count": 20,
     "metadata": {},
     "output_type": "execute_result"
    }
   ],
   "source": [
    "grad_at_origin(partial_circle)"
   ]
  },
  {
   "cell_type": "code",
   "execution_count": 21,
   "id": "db773980-7a10-4a25-aa95-251e5851e77d",
   "metadata": {
    "colab": {
     "base_uri": "https://localhost:8080/",
     "height": 560
    },
    "id": "db773980-7a10-4a25-aa95-251e5851e77d",
    "outputId": "72e29c3b-ad54-49e7-a139-889b91386b49"
   },
   "outputs": [
    {
     "name": "stdout",
     "output_type": "stream",
     "text": [
      "Cost: 9.57E-01\n",
      "Cost: 2.26E-01\n",
      "Cost: 3.35E-02\n",
      "Cost: 6.82E-03\n",
      "Cost: 1.46E-02\n",
      "translation -0.1452483\n",
      "rotation 0.45222494\n"
     ]
    },
    {
     "data": {
      "image/png": "[encoded data removed]",
      "text/plain": [
       "<Figure size 640x480 with 1 Axes>"
      ]
     },
     "metadata": {},
     "output_type": "display_data"
    }
   ],
   "source": [
    "find_equilibrium(partial_circle, True, 1000, 500)"
   ]
  },
  {
   "cell_type": "code",
   "execution_count": null,
   "id": "a09da0f5-9b57-435b-9544-55e2892fc277",
   "metadata": {
    "id": "a09da0f5-9b57-435b-9544-55e2892fc277"
   },
   "outputs": [],
   "source": []
  }
 ],
 "metadata": {
  "colab": {
   "machine_shape": "hm",
   "provenance": []
  },
  "kernelspec": {
   "display_name": "Python 3 (ipykernel)",
   "language": "python",
   "name": "python3"
  },
  "language_info": {
   "codemirror_mode": {
    "name": "ipython",
    "version": 3
   },
   "file_extension": ".py",
   "mimetype": "text/x-python",
   "name": "python",
   "nbconvert_exporter": "python",
   "pygments_lexer": "ipython3",
   "version": "3.12.3"
  }
 },
 "nbformat": 4,
 "nbformat_minor": 5
}
