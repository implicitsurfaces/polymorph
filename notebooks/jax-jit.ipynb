{
 "cells": [
  {
   "cell_type": "markdown",
   "metadata": {},
   "source": [
    "# JAX Jit Experiments\n",
    "\n",
    "Some quick investigations into the performance differences between the jit and non-jit version of some basic SDF operations.\n",
    "\n",
    "Takeaways:\n",
    "\n",
    "- No issues with Steve's new SDF library (`polymorph-s2df`) and JAX's jit.\n",
    "- On CPU, we get a reasonable speedup: the JIT version of calculating the area is 20x faster than the interpreter version."
   ]
  },
  {
   "cell_type": "code",
   "execution_count": 1,
   "metadata": {},
   "outputs": [
    {
     "data": {
      "text/plain": [
       "[CpuDevice(id=0)]"
      ]
     },
     "execution_count": 1,
     "metadata": {},
     "output_type": "execute_result"
    }
   ],
   "source": [
    "from polymorph_s2df import *\n",
    "import jax.numpy as jnp\n",
    "import jax\n",
    "import matplotlib.pyplot as plt\n",
    "\n",
    "jax.devices()"
   ]
  },
  {
   "cell_type": "code",
   "execution_count": 2,
   "metadata": {},
   "outputs": [],
   "source": [
    "def render(shape, bounds=(-3, 3), n=500):\n",
    "    x = jnp.linspace(bounds[0], bounds[1], n)\n",
    "    X, Y = jnp.meshgrid(x, x)\n",
    "\n",
    "    grid_points = jnp.column_stack((X.flatten(), Y.flatten()))\n",
    "    vec_is_inside = jax.jit(jax.vmap(lambda x: 1 - shape.is_inside(x)))\n",
    "    plt.imshow(vec_is_inside(grid_points).reshape(n, n), cmap=\"gray\", origin=\"lower\", extent=[bounds[0], bounds[1],bounds[0], bounds[1]])"
   ]
  },
  {
   "cell_type": "code",
   "execution_count": 3,
   "metadata": {},
   "outputs": [],
   "source": [
    "import time\n",
    "\n",
    "COUNT = 10000\n",
    "\n",
    "def bench(fn, *args, count=COUNT):\n",
    "    vg = jax.value_and_grad(fn)\n",
    "    start = time.time()\n",
    "    for i in range(0, count):\n",
    "        vg(*args)\n",
    "    print(f\"Non-jit: {1000 * (time.time() - start) / count}ms / iter\")\n",
    "\n",
    "    start = time.time()\n",
    "    jvg = jax.jit(vg)\n",
    "    for i in range(0, count):\n",
    "        jvg(*args)\n",
    "    print(f\"Jit: {1000 * (time.time() - start) / count}ms / iter\")"
   ]
  },
  {
   "cell_type": "code",
   "execution_count": 4,
   "metadata": {},
   "outputs": [],
   "source": [
    "import time\n",
    "\n",
    "def drawing(r1, r2, dx):\n",
    "    return Union(Circle(r1), Translation(jnp.array([dx, 0]), Circle(r2)))\n",
    "\n",
    "def dist_to_origin(*args):\n",
    "    return drawing(*args).distance(jnp.array([0, 0]))\n",
    "\n",
    "# bench(dist_to_origin, 1., 1., 1.)"
   ]
  },
  {
   "cell_type": "code",
   "execution_count": 7,
   "metadata": {},
   "outputs": [
    {
     "name": "stdout",
     "output_type": "stream",
     "text": [
      "[CpuDevice(id=0)]\n",
      "Default backend: cpu\n",
      "rand --\n",
      "6.397424\n",
      "Non-jit: 3.08685302734375ms / iter\n",
      "Jit: 0.10831212997436523ms / iter\n",
      "grid --\n",
      "6.1465154\n",
      "Non-jit: 2.8333771228790283ms / iter\n",
      "Jit: 0.11165332794189453ms / iter\n"
     ]
    }
   ],
   "source": [
    "import math\n",
    "\n",
    "def generate_grid_points2(n):\n",
    "    spacing = int(math.sqrt(n))\n",
    "    x = jnp.linspace(BOUNDS[0], BOUNDS[1], spacing)\n",
    "    y = jnp.linspace(BOUNDS[0], BOUNDS[1], spacing)\n",
    "    xx, yy = jnp.meshgrid(x, y)\n",
    "    return jnp.stack([xx.ravel(), yy.ravel()], axis=-1)\n",
    "\n",
    "BOUNDS = (-3, 3)\n",
    "n = 10000\n",
    "rand_points = jax.random.uniform(jax.random.PRNGKey(0), (n, 2), jnp.float32, BOUNDS[0], BOUNDS[1])\n",
    "grid_points = generate_grid_points2(n)\n",
    "\n",
    "def area(shape, points, bounds=[-1, 1]):\n",
    "    inside_points = jax.vmap(shape.is_inside)(points)\n",
    "    return jnp.average(inside_points, axis=0) * (bounds[1] - bounds[0])**2\n",
    "\n",
    "def circle_area_rand(r1, r2, d):\n",
    "    s = drawing(r1, r2, d)\n",
    "    return area(s, rand_points, BOUNDS)\n",
    "\n",
    "def circle_area_grid(r1, r2, d):\n",
    "    s = drawing(r1, r2, d)\n",
    "    return area(s, grid_points, BOUNDS)\n",
    "\n",
    "print(jax.devices())\n",
    "print(f\"Default backend: {jax.default_backend()}\")\n",
    "print('rand --')\n",
    "print(circle_area_rand(1., 1., 2.))\n",
    "bench(circle_area_rand, 1., 1., 2., count=1000)\n",
    "print('grid --')\n",
    "print(circle_area_grid(1., 1., 2.))\n",
    "bench(circle_area_grid, 1., 1., 2., count=1000)"
   ]
  }
 ],
 "metadata": {
  "kernelspec": {
   "display_name": ".venv",
   "language": "python",
   "name": "python3"
  },
  "language_info": {
   "codemirror_mode": {
    "name": "ipython",
    "version": 3
   },
   "file_extension": ".py",
   "mimetype": "text/x-python",
   "name": "python",
   "nbconvert_exporter": "python",
   "pygments_lexer": "ipython3",
   "version": "3.12.3"
  }
 },
 "nbformat": 4,
 "nbformat_minor": 2
}
