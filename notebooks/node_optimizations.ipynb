{
 "cells": [
  {
   "cell_type": "code",
   "execution_count": 1,
   "metadata": {},
   "outputs": [],
   "source": [
    "from polymorph_s2df import *\n",
    "import jax.numpy as jnp\n",
    "import jax\n",
    "\n",
    "SAMPLE_SIZE = 200\n",
    "INTEGRATION_BOUNDS = (-3, 3)\n",
    "SEED = jax.random.PRNGKey(0)\n",
    "points = jax.random.uniform(SEED, (SAMPLE_SIZE, 2), jnp.float32, *INTEGRATION_BOUNDS)\n",
    "\n",
    "def area(shape, points, bounds):\n",
    "    samples = shape.is_inside(points)\n",
    "    return samples.mean() * (bounds[1] - bounds[0])**2\n",
    "\n",
    "\n",
    "import optimistix\n",
    "from timeit import default_timer as timer\n",
    "def optimize_params(cost, params, points):\n",
    "    solver = optimistix.BFGS(rtol=1e-5, atol=1e-6)\n",
    "    start = timer()\n",
    "    solution = optimistix.minimise(cost, solver, params, points, throw=False)\n",
    "    elapsed = timer() - start\n",
    "    print(\"{0} steps in {1:.2f} seconds\".format(\n",
    "            solution.stats.get('num_steps'),\n",
    "            elapsed))\n",
    "    return solution.value"
   ]
  },
  {
   "cell_type": "code",
   "execution_count": 2,
   "metadata": {},
   "outputs": [
    {
     "name": "stdout",
     "output_type": "stream",
     "text": [
      "22 steps in 0.12 seconds\n",
      "Final params: [0.8747944]\n",
      "22 steps in 0.00 seconds\n"
     ]
    }
   ],
   "source": [
    "initial_params = jnp.array(\n",
    "    [ \n",
    "        0.5 # circle radius\n",
    "    ])\n",
    "\n",
    "def cost(params, points):\n",
    "    radius_circle = params[0]\n",
    "    shape = Circle(radius_circle)\n",
    "    target_area = 3.141\n",
    "    cost_area = (target_area - area(shape, points, INTEGRATION_BOUNDS))**2\n",
    "    return cost_area\n",
    "\n",
    "params = optimize_params(cost, initial_params, points)\n",
    "print(\"Final params:\", params)\n",
    "\n",
    "# Run again so we can see how long it takes post-JIT\n",
    "params = optimize_params(cost, initial_params, points)\n"
   ]
  },
  {
   "cell_type": "code",
   "execution_count": 3,
   "metadata": {},
   "outputs": [],
   "source": [
    "import sys\n",
    "from polymorph_num.node import as_node\n",
    "from polymorph_num import loss, ops, optimizer, point"
   ]
  },
  {
   "cell_type": "code",
   "execution_count": 4,
   "metadata": {},
   "outputs": [
    {
     "name": "stdout",
     "output_type": "stream",
     "text": [
      "tracing\n",
      "---\n",
      "tracing\n",
      "optimized in 1.54 seconds\n",
      "0.5\n"
     ]
    }
   ],
   "source": [
    "apoints = [point.Point(p[0].item(), p[1].item()) for p in points]\n",
    "\n",
    "def circle_sdf(radius, center, point):\n",
    "    dx = center.x - point.x\n",
    "    dy = center.y - point.y\n",
    "    dist = ops.sqrt(dx*dx + dy*dy)\n",
    "    return dist - radius\n",
    "\n",
    "#r = ops.param()\n",
    "r = ops.observation('r')\n",
    "c = point.Point(0.,0.)\n",
    "\n",
    "def area(f, points, bounds):\n",
    "    sum = as_node(0.0)\n",
    "    for p in points:\n",
    "        distance = circle_sdf(r, c, p)\n",
    "        scale = as_node(100)\n",
    "        is_inside = as_node(1) - ops.sigmoid(scale*distance)\n",
    "        sum += is_inside\n",
    "    mean = sum / len(points)\n",
    "    return mean * (bounds[1] - bounds[0])**2\n",
    "\n",
    "target_area = as_node(3.141)\n",
    "error = target_area - area(circle_sdf, apoints, INTEGRATION_BOUNDS)\n",
    "\n",
    "l = loss.Loss(error*error)\n",
    "l.register_output(r)\n",
    "\n",
    "opt = optimizer.Optimizer(l)\n",
    "print(\"---\")\n",
    "start = timer()\n",
    "soln = opt.optimize({'r': 0.5})\n",
    "elapsed = timer() - start\n",
    "print(\"optimized in {0:.2f} seconds\".format(elapsed))\n",
    "print(soln.eval(r))"
   ]
  },
  {
   "cell_type": "code",
   "execution_count": 5,
   "metadata": {},
   "outputs": [
    {
     "name": "stdout",
     "output_type": "stream",
     "text": [
      "module @jit_sum1 attributes {mhlo.num_partitions = 1 : i32, mhlo.num_replicas = 1 : i32} {\n",
      "  func.func public @main(%arg0: tensor<3xi32> {mhlo.layout_mode = \"default\"}) -> (tensor<i32> {jax.result_info = \"\", mhlo.layout_mode = \"default\"}) {\n",
      "    %0 = stablehlo.slice %arg0 [0:1] : (tensor<3xi32>) -> tensor<1xi32>\n",
      "    %1 = stablehlo.reshape %0 : (tensor<1xi32>) -> tensor<i32>\n",
      "    %c = stablehlo.constant dense<0> : tensor<i32>\n",
      "    %2 = stablehlo.add %c, %1 : tensor<i32>\n",
      "    %3 = stablehlo.slice %arg0 [1:2] : (tensor<3xi32>) -> tensor<1xi32>\n",
      "    %4 = stablehlo.reshape %3 : (tensor<1xi32>) -> tensor<i32>\n",
      "    %5 = stablehlo.add %2, %4 : tensor<i32>\n",
      "    %6 = stablehlo.slice %arg0 [2:3] : (tensor<3xi32>) -> tensor<1xi32>\n",
      "    %7 = stablehlo.reshape %6 : (tensor<1xi32>) -> tensor<i32>\n",
      "    %8 = stablehlo.add %5, %7 : tensor<i32>\n",
      "    return %8 : tensor<i32>\n",
      "  }\n",
      "}\n",
      "\n",
      "module @jit_sum2 attributes {mhlo.num_partitions = 1 : i32, mhlo.num_replicas = 1 : i32} {\n",
      "  func.func public @main(%arg0: tensor<3xi32> {mhlo.layout_mode = \"default\"}) -> (tensor<i32> {jax.result_info = \"\", mhlo.layout_mode = \"default\"}) {\n",
      "    %c = stablehlo.constant dense<0> : tensor<i32>\n",
      "    %0 = stablehlo.reduce(%arg0 init: %c) applies stablehlo.add across dimensions = [0] : (tensor<3xi32>, tensor<i32>) -> tensor<i32>\n",
      "    return %0 : tensor<i32>\n",
      "  }\n",
      "}\n",
      "\n"
     ]
    }
   ],
   "source": [
    "## Quick test to see if JAX is smart enough to detect a reduction\n",
    "import jax\n",
    "\n",
    "a = jnp.arange(3)\n",
    "\n",
    "@jax.jit\n",
    "def sum1(a):\n",
    "    s = 0\n",
    "    for p in a:\n",
    "        s += p\n",
    "    return s\n",
    "\n",
    "@jax.jit\n",
    "def sum2(a):\n",
    "    return a.sum()\n",
    "\n",
    "print(sum1.lower(a).as_text())\n",
    "\n",
    "print(sum2.lower(a).as_text())\n"
   ]
  }
 ],
 "metadata": {
  "kernelspec": {
   "display_name": ".venv",
   "language": "python",
   "name": "python3"
  },
  "language_info": {
   "codemirror_mode": {
    "name": "ipython",
    "version": 3
   },
   "file_extension": ".py",
   "mimetype": "text/x-python",
   "name": "python",
   "nbconvert_exporter": "python",
   "pygments_lexer": "ipython3",
   "version": "3.12.3"
  }
 },
 "nbformat": 4,
 "nbformat_minor": 2
}
