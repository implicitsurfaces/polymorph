{
 "cells": [
  {
   "cell_type": "code",
   "execution_count": 32,
   "id": "c24e3770",
   "metadata": {},
   "outputs": [],
   "source": [
    "import optimistix\n",
    "from timeit import default_timer as timer\n",
    "import jax.numpy as jnp\n",
    "from polymorph_s2df import *"
   ]
  },
  {
   "cell_type": "code",
   "execution_count": 33,
   "id": "04ef64d7",
   "metadata": {},
   "outputs": [],
   "source": [
    "def optimize_params(cost, params, constant_args):\n",
    "    solver = optimistix.BFGS(rtol=1e-5, atol=1e-6)\n",
    "    start = timer()\n",
    "    solution = optimistix.minimise(cost, solver, params, constant_args)\n",
    "    elapsed = timer() - start\n",
    "    print(\"{0} steps in {1:.2f} seconds\".format(\n",
    "            solution.stats.get('num_steps'),\n",
    "            elapsed))\n",
    "    return solution.value"
   ]
  },
  {
   "cell_type": "code",
   "execution_count": 34,
   "id": "0f0e2273",
   "metadata": {},
   "outputs": [
    {
     "name": "stdout",
     "output_type": "stream",
     "text": [
      "7 steps in 0.12 seconds\n",
      "7 steps in 0.00 seconds\n",
      "7 steps in 0.09 seconds\n",
      "7 steps in 0.00 seconds\n",
      "7 steps in 0.09 seconds\n"
     ]
    },
    {
     "data": {
      "text/plain": [
       "Array([3.], dtype=float32)"
      ]
     },
     "execution_count": 34,
     "metadata": {},
     "output_type": "execute_result"
    }
   ],
   "source": [
    "initial_params = jnp.array([1])\n",
    "\n",
    "def cost(params, constant_args):\n",
    "    target = 9\n",
    "    err = target - params[0]**2\n",
    "    return err**2\n",
    "\n",
    "optimize_params(cost, initial_params, None)\n",
    "optimize_params(cost, initial_params, None)\n",
    "optimize_params(cost, initial_params, 5)\n",
    "optimize_params(cost, initial_params, 5)\n",
    "optimize_params(cost, initial_params, 6)"
   ]
  },
  {
   "cell_type": "code",
   "execution_count": 35,
   "id": "3181d6b4",
   "metadata": {},
   "outputs": [],
   "source": [
    "class ValueIdentity:\n",
    "    def __init__(self, x):\n",
    "        self.x = x\n",
    "\n",
    "    def __eq__(self, other):\n",
    "        if isinstance(other, self.__class__):\n",
    "            return self.x == other.x\n",
    "        else:\n",
    "            return False\n",
    "\n",
    "    def __ne__(self, other):\n",
    "        return not self.__eq__(other)\n",
    "    \n",
    "    def __hash__(self):\n",
    "        return hash(f\"ValueIdentity {self.x}\")"
   ]
  },
  {
   "cell_type": "code",
   "execution_count": 36,
   "id": "f50a71bf",
   "metadata": {},
   "outputs": [
    {
     "name": "stdout",
     "output_type": "stream",
     "text": [
      "7 steps in 0.10 seconds\n",
      "7 steps in 0.00 seconds\n",
      "7 steps in 0.00 seconds\n",
      "7 steps in 0.09 seconds\n"
     ]
    },
    {
     "data": {
      "text/plain": [
       "Array([3.], dtype=float32)"
      ]
     },
     "execution_count": 36,
     "metadata": {},
     "output_type": "execute_result"
    }
   ],
   "source": [
    "a = ValueIdentity(1)\n",
    "b = ValueIdentity(1)\n",
    "c = ValueIdentity(2)\n",
    "optimize_params(cost, initial_params, a)\n",
    "optimize_params(cost, initial_params, a)\n",
    "optimize_params(cost, initial_params, b)\n",
    "optimize_params(cost, initial_params, c)"
   ]
  },
  {
   "cell_type": "code",
   "execution_count": 38,
   "id": "f3d60326",
   "metadata": {},
   "outputs": [
    {
     "data": {
      "text/plain": [
       "False"
      ]
     },
     "execution_count": 38,
     "metadata": {},
     "output_type": "execute_result"
    }
   ],
   "source": [
    "Circle(5) == Circle(5)"
   ]
  }
 ],
 "metadata": {
  "kernelspec": {
   "display_name": "Python 3 (ipykernel)",
   "language": "python",
   "name": "python3"
  },
  "language_info": {
   "codemirror_mode": {
    "name": "ipython",
    "version": 3
   },
   "file_extension": ".py",
   "mimetype": "text/x-python",
   "name": "python",
   "nbconvert_exporter": "python",
   "pygments_lexer": "ipython3",
   "version": "3.12.3"
  }
 },
 "nbformat": 4,
 "nbformat_minor": 5
}
