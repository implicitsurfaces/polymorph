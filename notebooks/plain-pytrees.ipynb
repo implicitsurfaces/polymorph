{
 "cells": [
  {
   "cell_type": "code",
   "execution_count": 3,
   "metadata": {},
   "outputs": [],
   "source": [
    "import jax"
   ]
  },
  {
   "cell_type": "code",
   "execution_count": 4,
   "metadata": {},
   "outputs": [
    {
     "name": "stdout",
     "output_type": "stream",
     "text": [
      "tracing\n",
      "3\n",
      "4\n",
      "8\n"
     ]
    }
   ],
   "source": [
    "from enum import IntEnum\n",
    "\n",
    "class Op(IntEnum):\n",
    "    ADD = 0\n",
    "    SUB = 1\n",
    "\n",
    "branches = [None]*2\n",
    "branches[Op.ADD] = lambda a, b: a + b\n",
    "branches[Op.SUB] = lambda a, b: a - b\n",
    "\n",
    "def add(a, b):\n",
    "    return { \"type\": Op.ADD, \"args\": (a, b) }\n",
    "\n",
    "def sub(a, b):\n",
    "    return { \"type\": Op.SUB, \"args\": (a, b) }\n",
    "\n",
    "@jax.jit\n",
    "def eval_exp(exp):\n",
    "    print('tracing')\n",
    "    return jax.lax.switch(exp[\"type\"], branches, *exp[\"args\"])\n",
    "\n",
    "print(eval_exp(add(1, 2)))\n",
    "print(eval_exp(add(2, 2)))\n",
    "print(eval_exp(sub(9, 1)))"
   ]
  }
 ],
 "metadata": {
  "kernelspec": {
   "display_name": ".venv",
   "language": "python",
   "name": "python3"
  },
  "language_info": {
   "codemirror_mode": {
    "name": "ipython",
    "version": 3
   },
   "file_extension": ".py",
   "mimetype": "text/x-python",
   "name": "python",
   "nbconvert_exporter": "python",
   "pygments_lexer": "ipython3",
   "version": "3.12.3"
  }
 },
 "nbformat": 4,
 "nbformat_minor": 2
}
