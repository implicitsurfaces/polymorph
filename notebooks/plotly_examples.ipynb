{
 "cells": [
  {
   "cell_type": "code",
   "execution_count": null,
   "metadata": {},
   "outputs": [],
   "source": [
    "import plotly.express as px\n",
    "import numpy as np\n",
    "import pandas as pd"
   ]
  },
  {
   "cell_type": "code",
   "execution_count": null,
   "metadata": {},
   "outputs": [],
   "source": [
    "fig = px.bar(x=[\"a\", \"b\", \"c\"], y=[1, 3, 2])\n",
    "fig.show()"
   ]
  },
  {
   "cell_type": "code",
   "execution_count": null,
   "metadata": {},
   "outputs": [],
   "source": [
    "points = np.random.randint(0, 10, 100).reshape(-1,2)\n",
    "px.scatter(x = points[:,0],\n",
    "           y = points[:,1],\n",
    "           height = 400,\n",
    "           width = 400)"
   ]
  },
  {
   "cell_type": "code",
   "execution_count": null,
   "metadata": {},
   "outputs": [],
   "source": [
    "# Alternatively, convert the numpy array into a data frame\n",
    "df = pd.DataFrame(points, columns=[\"x\",\"y\"])\n",
    "\n",
    "# let's add some color for fun too\n",
    "categories = [\"a\",\"b\",\"c\"]\n",
    "df[\"category\"] = np.random.choice(categories, points.shape[0])\n",
    "\n",
    "px.scatter(df, x=\"x\", y=\"y\", color=\"category\", category_orders={\"category\": categories})"
   ]
  }
 ],
 "metadata": {
  "kernelspec": {
   "display_name": ".venv",
   "language": "python",
   "name": "python3"
  },
  "language_info": {
   "codemirror_mode": {
    "name": "ipython",
    "version": 3
   },
   "file_extension": ".py",
   "mimetype": "text/x-python",
   "name": "python",
   "nbconvert_exporter": "python",
   "pygments_lexer": "ipython3",
   "version": "3.12.3"
  }
 },
 "nbformat": 4,
 "nbformat_minor": 2
}
