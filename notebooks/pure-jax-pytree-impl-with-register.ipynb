{
 "cells": [
  {
   "cell_type": "markdown",
   "id": "74131959-fd42-4b59-a543-588784f0e090",
   "metadata": {
    "editable": true,
    "jp-MarkdownHeadingCollapsed": true,
    "slideshow": {
     "slide_type": ""
    },
    "tags": []
   },
   "source": [
    "## Initialization"
   ]
  },
  {
   "cell_type": "code",
   "execution_count": 1,
   "id": "7288322d-83c0-469d-a08c-d86ef41a32e6",
   "metadata": {
    "editable": true,
    "slideshow": {
     "slide_type": ""
    },
    "tags": []
   },
   "outputs": [],
   "source": [
    "from polymorph_s2df import *\n",
    "from polymorph_s2df.devutils import *\n",
    "import jax.numpy as jnp\n",
    "import jax\n",
    "import matplotlib.pyplot as plt\n",
    "import numpy as np\n",
    "from jax.tree_util import register_pytree_node_class\n"
   ]
  },
  {
   "cell_type": "code",
   "execution_count": 2,
   "id": "d140d382-1530-45ab-98f8-7fbd092186c8",
   "metadata": {},
   "outputs": [],
   "source": [
    "import optimistix\n",
    "from timeit import default_timer as timer\n",
    "\n",
    "\n",
    "def optimize_params(cost, params):\n",
    "    solver = optimistix.BFGS(rtol=1e-5, atol=1e-6)\n",
    "    start = timer()\n",
    "    solution = optimistix.minimise(cost, solver, params, throw=False)\n",
    "    elapsed = timer() - start\n",
    "    print(\n",
    "        \"{0} steps in {1:.3f} seconds\".format(solution.stats.get(\"num_steps\"), elapsed)\n",
    "    )\n",
    "    return solution.value\n"
   ]
  },
  {
   "cell_type": "markdown",
   "id": "46a5c857-3ec3-48fb-a827-de18013eb9d3",
   "metadata": {
    "jp-MarkdownHeadingCollapsed": true
   },
   "source": [
    "## Reimplement Circle and Translation as variable aware pytree"
   ]
  },
  {
   "cell_type": "code",
   "execution_count": 3,
   "id": "80bcfc93-9513-4256-92e2-12eaaa24c0dc",
   "metadata": {},
   "outputs": [],
   "source": [
    "from polymorph_s2df.utils import length, indent_shape\n",
    "\n",
    "@register_pytree_node_class\n",
    "class Translation(Shape):\n",
    "    def __init__(self, offset, shape):\n",
    "        self.offset = offset\n",
    "        self.shape = shape\n",
    "\n",
    "    def __repr__(self):\n",
    "        return f\"Translation(\\n  {self.offset},\\n{indent_shape(self.shape)}\\n)\"\n",
    "\n",
    "    def tree_flatten(self):\n",
    "        return (\n",
    "                (self.shape,), { \"offset\": self.offset, },\n",
    "            )\n",
    "\n",
    "    @classmethod\n",
    "    def tree_unflatten(cls, aux_data, children):\n",
    "        return cls(\n",
    "            shape=children[0],\n",
    "            **aux_data\n",
    "        )\n",
    "\n",
    "    def distance(self, register, p):\n",
    "        return self.shape.distance(register, p - register[\"array\"].deref(self.offset))\n",
    "\n",
    "@register_pytree_node_class\n",
    "class Circle(Shape):\n",
    "    def __init__(self, radius):\n",
    "        self.radius = radius\n",
    "\n",
    "    def __repr__(self):\n",
    "        return f\"Circle({self.radius})\"\n",
    "\n",
    "    def tree_flatten(self):\n",
    "        return (), {\"radius\": self.radius}\n",
    "\n",
    "    @classmethod\n",
    "    def tree_unflatten(cls, aux_data, children):\n",
    "        return cls(*children, **aux_data)\n",
    "\n",
    "    def distance(self, register, p):\n",
    "        return length(p) - register[\"scalar\"].deref(self.radius)\n"
   ]
  },
  {
   "cell_type": "markdown",
   "id": "e7d06dec-5a02-45d5-846d-0a3fe791b1d5",
   "metadata": {},
   "source": [
    "## A most basic cost function "
   ]
  },
  {
   "cell_type": "code",
   "execution_count": 4,
   "id": "2b0acb49-c399-407b-ad0d-735ad64585a6",
   "metadata": {},
   "outputs": [],
   "source": [
    "def compute_cost(structure, _):\n",
    "    geometry = structure[\"geometry\"]\n",
    "    constraint = structure[\"constraint\"]\n",
    "    register = structure[\"register\"]\n",
    "\n",
    "    # This could be a tree a constraints\n",
    "    cost = constraint.cost(register, geometry)  \n",
    "    print(\"tracing\")\n",
    "    return cost"
   ]
  },
  {
   "cell_type": "markdown",
   "id": "51caa9d2-34a2-4778-8714-af5cff99d3ce",
   "metadata": {},
   "source": [
    "## A very simple constraint node"
   ]
  },
  {
   "cell_type": "code",
   "execution_count": 5,
   "id": "d922e262-264e-4f35-8d5e-f5bd06ae5f80",
   "metadata": {},
   "outputs": [],
   "source": [
    "@register_pytree_node_class\n",
    "class DistanceToPointConstraint:\n",
    "    def __init__(self, point):\n",
    "        self.point = point\n",
    "\n",
    "    def __repr__(self):\n",
    "        return f\"DistanceToPointConstraint({self.point})\"\n",
    "        \n",
    "\n",
    "    def tree_flatten(self):\n",
    "        return (), {\"point\": self.point}\n",
    "\n",
    "    @classmethod\n",
    "    def tree_unflatten(cls, aux_data, children):\n",
    "        return cls(**aux_data)\n",
    "\n",
    "    def cost(self, register, geometry):\n",
    "        return geometry.distance(register, np.array([self.point]))[0]**2 "
   ]
  },
  {
   "cell_type": "code",
   "execution_count": 6,
   "id": "9807403a-b82d-4441-aa02-177cfbd7ff99",
   "metadata": {},
   "outputs": [],
   "source": [
    "@register_pytree_node_class\n",
    "class ScalarRegister:\n",
    "    def __init__(self, values=None, is_var=None):\n",
    "        self.values = values if values is not None else []\n",
    "        self.is_var = is_var if is_var is not None else []\n",
    "\n",
    "\n",
    "    def __repr__(self):\n",
    "        return f\"ScalarRegister{self.values}\"\n",
    "        \n",
    "\n",
    "    def tree_flatten(self):\n",
    "        return tuple(var for (var, is_var) in zip(self.values, self.is_var) if is_var), {\n",
    "            \"is_var\": tuple(self.is_var),\n",
    "            \"consts\": tuple(var for (var, is_var) in zip(self.values, self.is_var) if not is_var)\n",
    "        }\n",
    "\n",
    "    @classmethod\n",
    "    def tree_unflatten(cls, aux_data, children):\n",
    "        variables = list(children)\n",
    "        constants = list(aux_data[\"consts\"])\n",
    "        is_var = aux_data[\"is_var\"]\n",
    "        \n",
    "        return cls(is_var=is_var, values=[\n",
    "            variables.pop(0) if is_var else constants.pop(0)\n",
    "            for is_var in is_var\n",
    "        ])\n",
    "\n",
    "    def const(self, value):\n",
    "        index = len(self.values)\n",
    "        self.values.append(value)\n",
    "        self.is_var.append(False)\n",
    "        return index\n",
    "\n",
    "    def var(self, value):\n",
    "        index = len(self.values)\n",
    "        self.values.append(value)\n",
    "        self.is_var.append(True)\n",
    "        return index\n",
    "\n",
    "    def deref(self, ref):\n",
    "        return self.values[ref]\n",
    "\n",
    "@register_pytree_node_class\n",
    "class ArrayRegister:\n",
    "    def __init__(self, values=None, is_var=None):\n",
    "        self.values = values if values is not None else []\n",
    "        self.is_var = is_var if is_var is not None else []\n",
    "\n",
    "\n",
    "    def __repr__(self):\n",
    "        return f\"ArrayRegister{self.values}\"\n",
    "        \n",
    "\n",
    "    def tree_flatten(self):\n",
    "        return tuple(var for (var, is_var) in zip(self.values, self.is_var) if is_var), {\n",
    "            \"is_var\": tuple(self.is_var),\n",
    "            \"consts\": tuple((var[0], var[1]) for (var, is_var) in zip(self.values, self.is_var) if not is_var)\n",
    "        }\n",
    "\n",
    "    @classmethod\n",
    "    def tree_unflatten(cls, aux_data, children):\n",
    "        variables = list(children)\n",
    "        constants = list(aux_data[\"consts\"])\n",
    "        is_var = aux_data[\"is_var\"]\n",
    "        \n",
    "        return cls(is_var=is_var, values=[\n",
    "            variables.pop(0) if is_var else np.array(constants.pop(0))\n",
    "            for is_var in is_var\n",
    "        ])\n",
    "\n",
    "    def const(self, x, y):\n",
    "        index = len(self.values)\n",
    "        self.values.append(np.array([x,y]))\n",
    "        self.is_var.append(False)\n",
    "        return index\n",
    "\n",
    "    def var(self, x, y):\n",
    "        index = len(self.values)\n",
    "        self.values.append(jnp.array([x,y]))\n",
    "        self.is_var.append(True)\n",
    "        return index\n",
    "\n",
    "    def deref(self, ref):\n",
    "        return self.values[ref]"
   ]
  },
  {
   "cell_type": "markdown",
   "id": "25e1e23d-5b81-462b-bfc3-87029a8511a0",
   "metadata": {},
   "source": [
    "## Play with the framework"
   ]
  },
  {
   "cell_type": "code",
   "execution_count": 7,
   "id": "5e9d8cbd-a001-4d5f-858f-5a1ec924099e",
   "metadata": {},
   "outputs": [],
   "source": [
    "scalar_register = ScalarRegister()\n",
    "array_register = ArrayRegister()\n",
    "\n",
    "structure = {\n",
    "    \"register\": {\n",
    "        \"scalar\": scalar_register,\n",
    "        \"array\": array_register,\n",
    "    },\n",
    "    \"constraint\": DistanceToPointConstraint((2., 2.)),\n",
    "    \"geometry\": Translation(array_register.const(0, 0), Circle(scalar_register.var(2))),\n",
    "}"
   ]
  },
  {
   "cell_type": "markdown",
   "id": "31c17c9d-8893-4191-a3a9-90ec13ddd253",
   "metadata": {},
   "source": [
    "We set a basic problem with a single constraint and a geometry where we want to very the position of the circle to touch the point `(2, 2)`"
   ]
  },
  {
   "cell_type": "code",
   "execution_count": 8,
   "id": "4dd2ebf5-0762-45e5-be9e-4d00c569c5eb",
   "metadata": {},
   "outputs": [
    {
     "name": "stdout",
     "output_type": "stream",
     "text": [
      "tracing\n",
      "4 steps in 0.249 seconds\n"
     ]
    },
    {
     "data": {
      "text/plain": [
       "{'constraint': DistanceToPointConstraint((2.0, 2.0)),\n",
       " 'geometry': Translation(\n",
       "   0,\n",
       "   Circle(0)\n",
       " ),\n",
       " 'register': {'array': ArrayRegister[array([0, 0])],\n",
       "  'scalar': ScalarRegister[Array(2.828427, dtype=float32)]}}"
      ]
     },
     "execution_count": 8,
     "metadata": {},
     "output_type": "execute_result"
    }
   ],
   "source": [
    "optimize_params(compute_cost, structure)"
   ]
  },
  {
   "cell_type": "markdown",
   "id": "2b278f78-e075-4f87-a9a2-86f69b65d305",
   "metadata": {},
   "source": [
    "If you rerun this function you can see that tracing is not called again."
   ]
  },
  {
   "cell_type": "code",
   "execution_count": 9,
   "id": "6b3e6343-b1ad-43fd-901c-8798e51c66aa",
   "metadata": {},
   "outputs": [
    {
     "name": "stdout",
     "output_type": "stream",
     "text": [
      "4 steps in 0.001 seconds\n"
     ]
    },
    {
     "data": {
      "text/plain": [
       "{'constraint': DistanceToPointConstraint((2.0, 2.0)),\n",
       " 'geometry': Translation(\n",
       "   0,\n",
       "   Circle(0)\n",
       " ),\n",
       " 'register': {'array': ArrayRegister[array([0, 0])],\n",
       "  'scalar': ScalarRegister[Array(2.828427, dtype=float32)]}}"
      ]
     },
     "execution_count": 9,
     "metadata": {},
     "output_type": "execute_result"
    }
   ],
   "source": [
    "optimize_params(compute_cost, structure)"
   ]
  },
  {
   "cell_type": "code",
   "execution_count": 10,
   "id": "19cbca08-5e23-41ce-acce-4fa6c474e58f",
   "metadata": {},
   "outputs": [
    {
     "data": {
      "text/plain": [
       "([2],\n",
       " PyTreeDef({'array': CustomNode(ArrayRegister[{'is_var': (False,), 'consts': ((0, 0),)}], []), 'scalar': CustomNode(ScalarRegister[{'is_var': (True,), 'consts': ()}], [*])}))"
      ]
     },
     "execution_count": 10,
     "metadata": {},
     "output_type": "execute_result"
    }
   ],
   "source": [
    "jax.tree.flatten(structure[\"register\"])"
   ]
  },
  {
   "cell_type": "markdown",
   "id": "36f48573-6ffc-4f34-aa00-2c9845cc4239",
   "metadata": {},
   "source": [
    "If we change the problem to change the radius of the circle, the function is traced again"
   ]
  },
  {
   "cell_type": "code",
   "execution_count": 13,
   "id": "0a291b49-c447-4443-bcc0-44d9ff3953a5",
   "metadata": {},
   "outputs": [],
   "source": [
    "scalar_register = ScalarRegister()\n",
    "array_register = ArrayRegister()\n",
    "\n",
    "structure2 = {\n",
    "    \"register\": {\n",
    "        \"scalar\": scalar_register,\n",
    "        \"array\": array_register,\n",
    "    },\n",
    "    \"constraint\": DistanceToPointConstraint((2., 2.)),\n",
    "    \"geometry\": Translation(array_register.var(0, 0), Circle(scalar_register.const(2))),\n",
    "}"
   ]
  },
  {
   "cell_type": "code",
   "execution_count": 14,
   "id": "2c8d3663-691d-445c-b12f-17223e52e138",
   "metadata": {},
   "outputs": [
    {
     "name": "stdout",
     "output_type": "stream",
     "text": [
      "tracing\n",
      "4 steps in 0.389 seconds\n"
     ]
    },
    {
     "data": {
      "text/plain": [
       "{'constraint': DistanceToPointConstraint((2.0, 2.0)),\n",
       " 'geometry': Translation(\n",
       "   0,\n",
       "   Circle(0)\n",
       " ),\n",
       " 'register': {'array': ArrayRegister[Array([0.5857864, 0.5857864], dtype=float32)],\n",
       "  'scalar': ScalarRegister[2]}}"
      ]
     },
     "execution_count": 14,
     "metadata": {},
     "output_type": "execute_result"
    }
   ],
   "source": [
    "optimize_params(compute_cost, structure2)"
   ]
  },
  {
   "cell_type": "code",
   "execution_count": null,
   "id": "aae2bf66-75bf-4633-98c3-d03b8989ab79",
   "metadata": {},
   "outputs": [],
   "source": []
  }
 ],
 "metadata": {
  "kernelspec": {
   "display_name": "Python 3 (ipykernel)",
   "language": "python",
   "name": "python3"
  },
  "language_info": {
   "codemirror_mode": {
    "name": "ipython",
    "version": 3
   },
   "file_extension": ".py",
   "mimetype": "text/x-python",
   "name": "python",
   "nbconvert_exporter": "python",
   "pygments_lexer": "ipython3",
   "version": "3.12.3"
  }
 },
 "nbformat": 4,
 "nbformat_minor": 5
}
