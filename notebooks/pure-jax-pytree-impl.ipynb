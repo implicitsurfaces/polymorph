{
 "cells": [
  {
   "cell_type": "markdown",
   "id": "74131959-fd42-4b59-a543-588784f0e090",
   "metadata": {},
   "source": [
    "## Initialization"
   ]
  },
  {
   "cell_type": "code",
   "execution_count": 1,
   "id": "7288322d-83c0-469d-a08c-d86ef41a32e6",
   "metadata": {
    "editable": true,
    "slideshow": {
     "slide_type": ""
    },
    "tags": []
   },
   "outputs": [],
   "source": [
    "from polymorph_s2df import *\n",
    "from polymorph_s2df.devutils import *\n",
    "import jax.numpy as jnp\n",
    "import jax\n",
    "import matplotlib.pyplot as plt\n",
    "import numpy as np\n",
    "from jax.tree_util import register_pytree_node_class\n"
   ]
  },
  {
   "cell_type": "code",
   "execution_count": 2,
   "id": "d140d382-1530-45ab-98f8-7fbd092186c8",
   "metadata": {},
   "outputs": [],
   "source": [
    "import optimistix\n",
    "from timeit import default_timer as timer\n",
    "\n",
    "\n",
    "def optimize_params(cost, params):\n",
    "    solver = optimistix.BFGS(rtol=1e-5, atol=1e-6)\n",
    "    start = timer()\n",
    "    solution = optimistix.minimise(cost, solver, params, throw=False)\n",
    "    elapsed = timer() - start\n",
    "    print(\n",
    "        \"{0} steps in {1:.3f} seconds\".format(solution.stats.get(\"num_steps\"), elapsed)\n",
    "    )\n",
    "    return solution.value\n"
   ]
  },
  {
   "cell_type": "code",
   "execution_count": 26,
   "id": "80bcfc93-9513-4256-92e2-12eaaa24c0dc",
   "metadata": {},
   "outputs": [],
   "source": [
    "from polymorph_s2df.utils import length, indent_shape\n",
    "\n",
    "@register_pytree_node_class\n",
    "class Translation(Shape):\n",
    "    def __init__(self, offset, shape, variables=()):\n",
    "        self.offset = offset\n",
    "        self.shape = shape\n",
    "        self.variables = variables\n",
    "\n",
    "    def __repr__(self):\n",
    "        return f\"Translation(\\n  {self.offset},\\n{indent_shape(self.shape)}\\n)\"\n",
    "\n",
    "    def tree_flatten(self):\n",
    "        if \"offset\" not in self.variables:\n",
    "            return (\n",
    "                (self.shape,),\n",
    "                {\n",
    "                    \"offset\": (self.offset[0], self.offset[1]),\n",
    "                    \"variables\": self.variables,\n",
    "                },\n",
    "            )\n",
    "        return (self.offset, self.shape), {\"variables\": self.variables}\n",
    "\n",
    "    @classmethod\n",
    "    def tree_unflatten(cls, aux_data, children):\n",
    "        if len(aux_data) == 1:\n",
    "            return cls(*children, **aux_data)\n",
    "        return cls(\n",
    "            shape=children[0],\n",
    "            variables=aux_data[\"variables\"],\n",
    "            offset=np.array(aux_data[\"offset\"]),\n",
    "        )\n",
    "\n",
    "    def distance(self, p):\n",
    "        return self.shape.distance(p - self.offset)\n",
    "\n",
    "@register_pytree_node_class\n",
    "class Circle(Shape):\n",
    "    def __init__(self, radius, variables=()):\n",
    "        self.radius = radius\n",
    "        self.variables = variables\n",
    "\n",
    "    def __repr__(self):\n",
    "        return f\"Circle({self.radius})\"\n",
    "\n",
    "    def tree_flatten(self):\n",
    "        if \"radius\" in self.variables:\n",
    "            return (self.radius,), {\"variables\": self.variables}\n",
    "        return (), {\"radius\": self.radius, \"variables\": self.variables}\n",
    "\n",
    "    @classmethod\n",
    "    def tree_unflatten(cls, aux_data, children):\n",
    "        return cls(*children, **aux_data)\n",
    "\n",
    "    def distance(self, p):\n",
    "        return length(p) - self.radius\n"
   ]
  },
  {
   "cell_type": "markdown",
   "id": "e7d06dec-5a02-45d5-846d-0a3fe791b1d5",
   "metadata": {},
   "source": [
    "## A most basic cost function "
   ]
  },
  {
   "cell_type": "code",
   "execution_count": 27,
   "id": "2b0acb49-c399-407b-ad0d-735ad64585a6",
   "metadata": {},
   "outputs": [],
   "source": [
    "def compute_cost(structure, _):\n",
    "    geometry = structure[\"geometry\"]\n",
    "    constraint = structure[\"constraint\"]\n",
    "\n",
    "    # This could be a tree a constraints\n",
    "    cost = constraint.cost(geometry)  \n",
    "    print(\"tracing\")\n",
    "    return cost"
   ]
  },
  {
   "cell_type": "markdown",
   "id": "51caa9d2-34a2-4778-8714-af5cff99d3ce",
   "metadata": {},
   "source": [
    "## A very simple constraint node"
   ]
  },
  {
   "cell_type": "code",
   "execution_count": 28,
   "id": "d922e262-264e-4f35-8d5e-f5bd06ae5f80",
   "metadata": {},
   "outputs": [],
   "source": [
    "@register_pytree_node_class\n",
    "class DistanceToPointConstraint:\n",
    "    def __init__(self, point):\n",
    "        self.point = point\n",
    "\n",
    "    def __repr__(self):\n",
    "        return f\"DistanceToPointConstraint({self.point})\"\n",
    "        \n",
    "\n",
    "    def tree_flatten(self):\n",
    "        return (), {\"point\": self.point}\n",
    "\n",
    "    @classmethod\n",
    "    def tree_unflatten(cls, aux_data, children):\n",
    "        return cls(**aux_data)\n",
    "\n",
    "    def cost(self, geometry):\n",
    "        return geometry.distance(np.array([self.point]))[0]**2 "
   ]
  },
  {
   "cell_type": "code",
   "execution_count": 29,
   "id": "5e9d8cbd-a001-4d5f-858f-5a1ec924099e",
   "metadata": {},
   "outputs": [],
   "source": [
    "\n",
    "structure = {\n",
    "    \"constraint\": DistanceToPointConstraint((2., 2.)),\n",
    "    \"geometry\": Translation(p(0, 0), Circle(2), variables=[\"offset\"]),\n",
    "}"
   ]
  },
  {
   "cell_type": "markdown",
   "id": "31c17c9d-8893-4191-a3a9-90ec13ddd253",
   "metadata": {},
   "source": [
    "We set a basic problem with a single constraint and a geometry where we want to very the position of the circle to touch the point `(2, 2)`"
   ]
  },
  {
   "cell_type": "code",
   "execution_count": 30,
   "id": "4dd2ebf5-0762-45e5-be9e-4d00c569c5eb",
   "metadata": {},
   "outputs": [
    {
     "name": "stdout",
     "output_type": "stream",
     "text": [
      "tracing\n",
      "4 steps in 0.196 seconds\n"
     ]
    },
    {
     "data": {
      "text/plain": [
       "{'constraint': DistanceToPointConstraint((2.0, 2.0)),\n",
       " 'geometry': Translation(\n",
       "   [0.5857864 0.5857864],\n",
       "   Circle(2)\n",
       " )}"
      ]
     },
     "execution_count": 30,
     "metadata": {},
     "output_type": "execute_result"
    }
   ],
   "source": [
    "optimize_params(compute_cost, structure)"
   ]
  },
  {
   "cell_type": "markdown",
   "id": "2b278f78-e075-4f87-a9a2-86f69b65d305",
   "metadata": {},
   "source": [
    "If you rerun this function you can see that tracing is not called again."
   ]
  },
  {
   "cell_type": "code",
   "execution_count": 31,
   "id": "6b3e6343-b1ad-43fd-901c-8798e51c66aa",
   "metadata": {},
   "outputs": [
    {
     "name": "stdout",
     "output_type": "stream",
     "text": [
      "4 steps in 0.002 seconds\n"
     ]
    },
    {
     "data": {
      "text/plain": [
       "{'constraint': DistanceToPointConstraint((2.0, 2.0)),\n",
       " 'geometry': Translation(\n",
       "   [0.5857864 0.5857864],\n",
       "   Circle(2)\n",
       " )}"
      ]
     },
     "execution_count": 31,
     "metadata": {},
     "output_type": "execute_result"
    }
   ],
   "source": [
    "optimize_params(compute_cost, structure)"
   ]
  },
  {
   "cell_type": "code",
   "execution_count": 32,
   "id": "19cbca08-5e23-41ce-acce-4fa6c474e58f",
   "metadata": {},
   "outputs": [
    {
     "data": {
      "text/plain": [
       "([Array([0, 0], dtype=int32)],\n",
       " PyTreeDef({'constraint': CustomNode(DistanceToPointConstraint[{'point': (2.0, 2.0)}], []), 'geometry': CustomNode(Translation[{'variables': ['offset']}], [*, CustomNode(Circle[{'radius': 2, 'variables': ()}], [])])}))"
      ]
     },
     "execution_count": 32,
     "metadata": {},
     "output_type": "execute_result"
    }
   ],
   "source": [
    "jax.tree.flatten(structure)"
   ]
  },
  {
   "cell_type": "markdown",
   "id": "36f48573-6ffc-4f34-aa00-2c9845cc4239",
   "metadata": {},
   "source": [
    "If we change the problem to change the radius of the circle, the function is traced again"
   ]
  },
  {
   "cell_type": "code",
   "execution_count": 33,
   "id": "0a291b49-c447-4443-bcc0-44d9ff3953a5",
   "metadata": {},
   "outputs": [
    {
     "name": "stdout",
     "output_type": "stream",
     "text": [
      "tracing\n",
      "4 steps in 0.155 seconds\n"
     ]
    },
    {
     "data": {
      "text/plain": [
       "{'constraint': DistanceToPointConstraint((2.0, 2.0)),\n",
       " 'geometry': Translation(\n",
       "   [0. 0.],\n",
       "   Circle(2.8284270763397217)\n",
       " )}"
      ]
     },
     "execution_count": 33,
     "metadata": {},
     "output_type": "execute_result"
    }
   ],
   "source": [
    "structure2 = {\n",
    "    \"constraint\": DistanceToPointConstraint((2., 2.)),\n",
    "    \"geometry\": Translation(p(0., 0.), Circle(2, variables=[\"radius\"]))\n",
    "}\n",
    "\n",
    "optimize_params(compute_cost, structure2)"
   ]
  }
 ],
 "metadata": {
  "kernelspec": {
   "display_name": "Python 3 (ipykernel)",
   "language": "python",
   "name": "python3"
  },
  "language_info": {
   "codemirror_mode": {
    "name": "ipython",
    "version": 3
   },
   "file_extension": ".py",
   "mimetype": "text/x-python",
   "name": "python",
   "nbconvert_exporter": "python",
   "pygments_lexer": "ipython3",
   "version": "3.12.3"
  }
 },
 "nbformat": 4,
 "nbformat_minor": 5
}
