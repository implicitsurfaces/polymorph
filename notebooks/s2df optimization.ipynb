{
 "cells": [
  {
   "cell_type": "markdown",
   "id": "7e49ebd6-5404-4092-94fa-a87d5960ff66",
   "metadata": {
    "jp-MarkdownHeadingCollapsed": true
   },
   "source": [
    "## Shape optimization, using the new s2df functions"
   ]
  },
  {
   "cell_type": "markdown",
   "id": "1aa6c57f",
   "metadata": {},
   "source": [
    "(Same as boat_shape_optimization notebook.)"
   ]
  },
  {
   "cell_type": "code",
   "execution_count": null,
   "id": "6a94ea5f-c0c7-4189-94fa-811cb8fc8143",
   "metadata": {},
   "outputs": [],
   "source": [
    "from polymorph_s2df import *\n",
    "import jax.numpy as jnp\n",
    "import jax\n",
    "import matplotlib.pyplot as plt\n",
    "\n",
    "def render(shape, bounds=(-3, 3), n=500):\n",
    "    x = jnp.linspace(bounds[0], bounds[1], n)\n",
    "    X, Y = jnp.meshgrid(x, x)\n",
    "\n",
    "    grid_points = jnp.column_stack((X.flatten(), Y.flatten()))\n",
    "    vec_is_inside = jax.jit(lambda x: 1 - shape.is_inside(x))\n",
    "    plt.imshow(vec_is_inside(grid_points).reshape(n, n), cmap=\"gray\", origin=\"lower\", extent=[bounds[0], bounds[1],bounds[0], bounds[1]])"
   ]
  },
  {
   "cell_type": "code",
   "execution_count": null,
   "id": "9dc7bb7c",
   "metadata": {},
   "outputs": [],
   "source": [
    "#########################\n",
    "## Analysis\n",
    "\n",
    "## TODO: combine sample points and bounds into single object since they're always related.\n",
    "\n",
    "## TODO: should these fns be put in the s2df shared library?\n",
    "\n",
    "def area(sdf, points, bounds=(-1, 1)):\n",
    "    samples = sdf.is_inside(points)\n",
    "    return samples.mean() * (bounds[1] - bounds[0])**2\n",
    "\n",
    "def centroid(sdf, points):\n",
    "    samples = sdf.is_inside(points)\n",
    "    return jnp.average(points, weights=samples, axis=0)\n"
   ]
  },
  {
   "cell_type": "code",
   "execution_count": null,
   "id": "67a88cb6",
   "metadata": {},
   "outputs": [],
   "source": [
    "RELATIVE_DENSITY = 0.5\n",
    "SAMPLE_SIZE = 10000\n",
    "INTEGRATION_BOUNDS = (-3, 3)\n",
    "SEED = jax.random.PRNGKey(0)"
   ]
  },
  {
   "cell_type": "code",
   "execution_count": null,
   "id": "f326a3c1",
   "metadata": {},
   "outputs": [],
   "source": [
    "def update_position(shape, original_shape_center, p1, p2):\n",
    "    return (shape\n",
    "            .rotate_around(jnp.atan(p1), original_shape_center)\n",
    "            .translate(p(0, p2)))\n",
    "\n",
    "def displacement(shape):\n",
    "    return shape.intersect(BottomHalfPlane)\n",
    "\n",
    "def alignment_cost(shape, points):\n",
    "    center_of_gravity = centroid(shape, points)\n",
    "    \n",
    "    shape_weight = RELATIVE_DENSITY * area(shape, points, bounds=INTEGRATION_BOUNDS)\n",
    "\n",
    "    displacement = displacement(shape)\n",
    "    center_of_buoyancy = centroid(displacement, points)\n",
    "\n",
    "    displacement_weight = area(displacement, points, bounds=INTEGRATION_BOUNDS)\n",
    "\n",
    "    gravity_cost = displacement_weight - shape_weight\n",
    "    torque_cost = (center_of_buoyancy - center_of_gravity)[0]\n",
    "\n",
    "    costs = jnp.array([gravity_cost, torque_cost])\n",
    "    return jnp.dot(costs, costs)\n",
    "\n",
    "def center_of_gravity(shape, points):\n",
    "    return centroid(shape, points)\n",
    "\n",
    "def center_of_buoyancy(shape, points):\n",
    "    return centroid(displacement(shape), points)"
   ]
  },
  {
   "cell_type": "code",
   "execution_count": null,
   "id": "6d81e008",
   "metadata": {},
   "outputs": [],
   "source": [
    "points = jax.random.uniform(SEED, (SAMPLE_SIZE, 2), jnp.float32, *INTEGRATION_BOUNDS)\n",
    "initial_params = jnp.array(\n",
    "    [ 0. # y position\n",
    "    , 0. # tan(angle) around center of gravity\n",
    "    , 1. # r1 width\n",
    "    , 1. # r2 width\n",
    "    , 1. # r3 width\n",
    "    ])\n",
    "\n",
    "\n",
    "def params_to_shape(params):\n",
    "    shape = (Box(params[2], 1)\n",
    "             .union(Box(params[3], 1).translate(p(0, 1)))\n",
    "             .union(Box(params[4], 1).translate(p(0, 2)))\n",
    "             )\n",
    "    cog = center_of_gravity(shape, points)\n",
    "    return update_position(shape, cog, params[0], params[1])\n",
    "\n",
    "render(params_to_shape(initial_params), INTEGRATION_BOUNDS)"
   ]
  },
  {
   "cell_type": "code",
   "execution_count": null,
   "id": "c24e3770",
   "metadata": {},
   "outputs": [],
   "source": [
    "def optimize_params(cost, params, points):\n",
    "    solver = optimistix.BFGS(rtol=1e-5, atol=1e-6)\n",
    "    start = timer()\n",
    "    solution = optimistix.minimise(cost, solver, params, points)\n",
    "    elapsed = timer() - start\n",
    "    print(\"{0} steps in {1:.2f} seconds\".format(\n",
    "            solution.stats.get('num_steps'),\n",
    "            elapsed))\n",
    "    return solution.value"
   ]
  },
  {
   "cell_type": "code",
   "execution_count": null,
   "id": "0f0e2273",
   "metadata": {},
   "outputs": [],
   "source": [
    "def cost(params, points):\n",
    "    shape = params_to_shape(params)\n",
    "    target_area = 3\n",
    "    area_cost = (target_area - area(shape, points, INTEGRATION_BOUNDS))**2\n",
    "    distance_from_3 = shape(jnp.array([[0, 3]]))\n",
    "    return area_cost + alignment_cost(shape, points) + 2.0**distance_from_3[0]\n",
    "\n",
    "params = optimize_params(cost, initial_params, points)\n",
    "print(params)\n",
    "\n",
    "end_shape = params_to_shape(params)\n",
    "render(end_shape, bounds=INTEGRATION_BOUNDS)\n"
   ]
  }
 ],
 "metadata": {
  "kernelspec": {
   "display_name": "Python 3 (ipykernel)",
   "language": "python",
   "name": "python3"
  },
  "language_info": {
   "codemirror_mode": {
    "name": "ipython",
    "version": 3
   },
   "file_extension": ".py",
   "mimetype": "text/x-python",
   "name": "python",
   "nbconvert_exporter": "python",
   "pygments_lexer": "ipython3",
   "version": "3.12.3"
  }
 },
 "nbformat": 4,
 "nbformat_minor": 5
}
