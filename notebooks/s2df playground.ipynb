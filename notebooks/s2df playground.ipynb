{
 "cells": [
  {
   "cell_type": "markdown",
   "id": "7e49ebd6-5404-4092-94fa-a87d5960ff66",
   "metadata": {
    "jp-MarkdownHeadingCollapsed": true
   },
   "source": [
    "### Initialization"
   ]
  },
  {
   "cell_type": "code",
   "execution_count": 1,
   "id": "6a94ea5f-c0c7-4189-94fa-811cb8fc8143",
   "metadata": {},
   "outputs": [
    {
     "ename": "SyntaxError",
     "evalue": "invalid decimal literal (__init__.py, line 194)",
     "output_type": "error",
     "traceback": [
      "Traceback \u001b[0;36m(most recent call last)\u001b[0m:\n",
      "\u001b[0m  File \u001b[1;32m~/workbench/polymorph/.venv/lib/python3.12/site-packages/IPython/core/interactiveshell.py:3577\u001b[0m in \u001b[1;35mrun_code\u001b[0m\n    exec(code_obj, self.user_global_ns, self.user_ns)\u001b[0m\n",
      "\u001b[0;36m  Cell \u001b[0;32mIn[1], line 1\u001b[0;36m\n\u001b[0;31m    from polymorph_s2df import *\u001b[0;36m\n",
      "\u001b[0;36m  File \u001b[0;32m~/workbench/polymorph/polymorph-s2df/src/polymorph_s2df/__init__.py:194\u001b[0;36m\u001b[0m\n\u001b[0;31m    >>>>>>> 660f00a (Adding difference and playing with triangles)\u001b[0m\n\u001b[0m              ^\u001b[0m\n\u001b[0;31mSyntaxError\u001b[0m\u001b[0;31m:\u001b[0m invalid decimal literal\n"
     ]
    }
   ],
   "source": [
    "from polymorph_s2df import *\n",
    "import jax.numpy as jnp\n",
    "import jax\n",
    "import matplotlib.pyplot as plt\n",
    "\n",
    "def p(x, y):\n",
    "    return jnp.array([x, y])\n",
    "\n",
    "def render(shape, bounds=(-3, 3), n=500):\n",
    "    x = jnp.linspace(bounds[0], bounds[1], n)\n",
    "    X, Y = jnp.meshgrid(x, x)\n",
    "\n",
    "    grid_points = jnp.column_stack((X.flatten(), Y.flatten()))\n",
    "    vec_is_inside = jax.jit(jax.vmap(lambda x: 1 - shape.is_inside(x)))\n",
    "    plt.imshow(vec_is_inside(grid_points).reshape(n, n), cmap=\"gray\", origin=\"lower\", extent=[bounds[0], bounds[1],bounds[0], bounds[1]])\n",
    "\n",
    "\n",
    "def render_distance(shape, bounds=(-3, 3), n=500):\n",
    "    x = jnp.linspace(bounds[0], bounds[1], n)\n",
    "    X, Y = jnp.meshgrid(x, x)\n",
    "\n",
    "    grid_points = jnp.column_stack((X.flatten(), Y.flatten()))\n",
    "    sdf = jax.jit(jax.vmap(lambda x: shape.distance(x)))\n",
    "\n",
    "    values = sdf(grid_points).reshape(n, n)\n",
    "    \n",
    "    fig1, ax2 = plt.subplots(layout='constrained')\n",
    "\n",
    "    levels = jnp.linspace(-5, 5, 41)\n",
    "\n",
    "    ax2.axis('equal')\n",
    "    ax2.contourf(X, Y, values, levels=levels, cmap=\"PRGn\", origin=\"lower\", extent=[bounds[0], bounds[1],bounds[0], bounds[1]])\n",
    "    ax2.contour(X, Y, values, levels=levels, colors=\"k\", origin=\"lower\", extent=[bounds[0], bounds[1],bounds[0], bounds[1]])\n"
   ]
  },
  {
   "cell_type": "markdown",
   "id": "00798092-3962-4199-900b-bfef8c391657",
   "metadata": {},
   "source": [
    "### Playground"
   ]
  },
  {
   "cell_type": "code",
   "execution_count": null,
   "id": "349afb59-4368-4ead-98fd-5c984e14384c",
   "metadata": {},
   "outputs": [],
   "source": [
    "c = Circle(2).substract(Circle(0.5)).substract(Box(2.3, 0.2).translate(p(1, 0)))\n",
    "c"
   ]
  },
  {
   "cell_type": "code",
   "execution_count": null,
   "id": "4a28498b-faac-4c1b-b20d-d229506064da",
   "metadata": {},
   "outputs": [],
   "source": [
    "render(c, [-3, 3])"
   ]
  },
  {
   "cell_type": "code",
   "execution_count": null,
   "id": "8c8d8897-5dc0-45dc-854c-02bede8deb1d",
   "metadata": {},
   "outputs": [],
   "source": [
    "render_distance(Triangle(p(2, 1), p(0, 0), p(0.5, 1)), [-3, 3])"
   ]
  },
  {
   "cell_type": "markdown",
   "id": "b2ca63a3-898e-4363-ba73-6c3f1d846ae3",
   "metadata": {},
   "source": [
    "This has an issue with figuring out if it is outside or inside when the closest point is a corner. I will implement this with the generic path construct (as I did during my experiments)"
   ]
  }
 ],
 "metadata": {
  "kernelspec": {
   "display_name": "Python 3 (ipykernel)",
   "language": "python",
   "name": "python3"
  },
  "language_info": {
   "codemirror_mode": {
    "name": "ipython",
    "version": 3
   },
   "file_extension": ".py",
   "mimetype": "text/x-python",
   "name": "python",
   "nbconvert_exporter": "python",
   "pygments_lexer": "ipython3",
   "version": "3.12.3"
  }
 },
 "nbformat": 4,
 "nbformat_minor": 5
}
