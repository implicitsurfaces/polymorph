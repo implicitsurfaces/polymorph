{
 "cells": [
  {
   "cell_type": "code",
   "execution_count": 1,
   "id": "6a94ea5f-c0c7-4189-94fa-811cb8fc8143",
   "metadata": {},
   "outputs": [],
   "source": [
    "from polymorph_s2df import *\n",
    "import jax.numpy as jnp\n",
    "import jax\n",
    "import matplotlib.pyplot as plt"
   ]
  },
  {
   "cell_type": "code",
   "execution_count": 7,
   "id": "349afb59-4368-4ead-98fd-5c984e14384c",
   "metadata": {},
   "outputs": [
    {
     "data": {
      "text/plain": [
       "SmoothUnion(\n",
       "  0.1,\n",
       "  Rotation(\n",
       "    0.2, \n",
       "    Translation(\n",
       "      [2 3],\n",
       "      Circle(1)\n",
       "    )\n",
       "  ), \n",
       "  Translation(\n",
       "    [4.  1.5],\n",
       "    Box(4, 1)\n",
       "  ) \n",
       ")"
      ]
     },
     "execution_count": 7,
     "metadata": {},
     "output_type": "execute_result"
    }
   ],
   "source": [
    "c = Circle(1).translate(jnp.asarray([2, 3])).rotate(0.2).smooth_union(0.1, Box(4, 1).translate(jnp.asarray([4, 1.5])))\n",
    "c"
   ]
  },
  {
   "cell_type": "code",
   "execution_count": 8,
   "id": "73505825-ebd6-4a64-93a6-ba8479466a1e",
   "metadata": {},
   "outputs": [
    {
     "data": {
      "text/plain": [
       "Array(-0.28009105, dtype=float32)"
      ]
     },
     "execution_count": 8,
     "metadata": {},
     "output_type": "execute_result"
    }
   ],
   "source": [
    "c.distance(jnp.asarray([2, 3]))"
   ]
  },
  {
   "cell_type": "code",
   "execution_count": 9,
   "id": "51791ea3-fbac-4465-8c66-fe235ecdee4d",
   "metadata": {},
   "outputs": [
    {
     "data": {
      "text/plain": [
       "Array(1., dtype=float32)"
      ]
     },
     "execution_count": 9,
     "metadata": {},
     "output_type": "execute_result"
    }
   ],
   "source": [
    "c.is_inside(jnp.asarray([3, 3]))"
   ]
  },
  {
   "cell_type": "code",
   "execution_count": 12,
   "id": "31bbd89c-7144-4628-a648-53bfc2285736",
   "metadata": {},
   "outputs": [],
   "source": [
    "def render(shape, bounds=(-3, 3), n=500):\n",
    "    x = jnp.linspace(bounds[0], bounds[1], n)\n",
    "    X, Y = jnp.meshgrid(x, x)\n",
    "\n",
    "    grid_points = jnp.column_stack((X.flatten(), Y.flatten()))\n",
    "    vec_is_inside = jax.jit(jax.vmap(lambda x: 1 - shape.is_inside(x)))\n",
    "    plt.imshow(vec_is_inside(grid_points).reshape(n, n), cmap=\"gray\", origin=\"lower\", extent=[bounds[0], bounds[1],bounds[0], bounds[1]])"
   ]
  },
  {
   "cell_type": "code",
   "execution_count": 13,
   "id": "4a28498b-faac-4c1b-b20d-d229506064da",
   "metadata": {},
   "outputs": [
    {
     "data": {
      "image/png": "[encoded data removed]",
      "text/plain": [
       "<Figure size 640x480 with 1 Axes>"
      ]
     },
     "metadata": {},
     "output_type": "display_data"
    }
   ],
   "source": [
    "render(c, [0, 8])"
   ]
  },
  {
   "cell_type": "code",
   "execution_count": null,
   "id": "8c8d8897-5dc0-45dc-854c-02bede8deb1d",
   "metadata": {},
   "outputs": [],
   "source": []
  }
 ],
 "metadata": {
  "kernelspec": {
   "display_name": "Python 3 (ipykernel)",
   "language": "python",
   "name": "python3"
  },
  "language_info": {
   "codemirror_mode": {
    "name": "ipython",
    "version": 3
   },
   "file_extension": ".py",
   "mimetype": "text/x-python",
   "name": "python",
   "nbconvert_exporter": "python",
   "pygments_lexer": "ipython3",
   "version": "3.12.3"
  }
 },
 "nbformat": 4,
 "nbformat_minor": 5
}
