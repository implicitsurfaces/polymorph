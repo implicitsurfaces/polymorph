{
 "cells": [
  {
   "cell_type": "markdown",
   "id": "7e49ebd6-5404-4092-94fa-a87d5960ff66",
   "metadata": {
    "jp-MarkdownHeadingCollapsed": true
   },
   "source": [
    "### Initialization"
   ]
  },
  {
   "cell_type": "code",
   "execution_count": null,
   "id": "6a94ea5f-c0c7-4189-94fa-811cb8fc8143",
   "metadata": {},
   "outputs": [],
   "source": [
    "from polymorph_s2df import *\n",
    "import jax.numpy as jnp\n",
    "import jax\n",
    "import matplotlib.pyplot as plt\n",
    "\n",
    "def render(shape, bounds=(-3, 3), n=500):\n",
    "    x = jnp.linspace(bounds[0], bounds[1], n)\n",
    "    X, Y = jnp.meshgrid(x, x)\n",
    "\n",
    "    grid_points = jnp.column_stack((X.flatten(), Y.flatten()))\n",
    "    vec_is_inside = jax.jit(lambda x: 1 - shape.is_inside(x))\n",
    "    plt.imshow(vec_is_inside(grid_points).reshape(n, n), cmap=\"gray\", origin=\"lower\", extent=[bounds[0], bounds[1],bounds[0], bounds[1]])\n",
    "\n",
    "\n",
    "def render_distance(shape, bounds=(-3, 3), n=500):\n",
    "    x = jnp.linspace(bounds[0], bounds[1], n)\n",
    "    X, Y = jnp.meshgrid(x, x)\n",
    "\n",
    "    grid_points = jnp.column_stack((X.flatten(), Y.flatten()))\n",
    "    sdf = jax.jit(shape.distance)\n",
    "\n",
    "    values = sdf(grid_points).reshape(n, n)\n",
    "    \n",
    "    fig1, ax2 = plt.subplots(layout='constrained')\n",
    "\n",
    "    levels = jnp.linspace(-5, 5, 41)\n",
    "\n",
    "    ax2.axis('equal')\n",
    "    ax2.contourf(X, Y, values, levels=levels, cmap=\"PRGn\", origin=\"lower\", extent=[bounds[0], bounds[1],bounds[0], bounds[1]])\n",
    "    ax2.contour(X, Y, values, levels=levels, colors=\"k\", origin=\"lower\", extent=[bounds[0], bounds[1],bounds[0], bounds[1]])\n"
   ]
  },
  {
   "cell_type": "markdown",
   "id": "00798092-3962-4199-900b-bfef8c391657",
   "metadata": {},
   "source": [
    "### Playground"
   ]
  },
  {
   "cell_type": "code",
   "execution_count": null,
   "id": "349afb59-4368-4ead-98fd-5c984e14384c",
   "metadata": {},
   "outputs": [],
   "source": [
    "c = Circle(2).substract(Circle(0.5)).substract(Box(2.3, 0.2).translate(p(1, 0)))"
   ]
  },
  {
   "cell_type": "code",
   "execution_count": null,
   "id": "4a28498b-faac-4c1b-b20d-d229506064da",
   "metadata": {},
   "outputs": [],
   "source": [
    "render(c, p(-3, 3))"
   ]
  },
  {
   "cell_type": "code",
   "execution_count": null,
   "id": "0a506840",
   "metadata": {},
   "outputs": [],
   "source": [
    "render_distance(c, p(-3, 3))"
   ]
  },
  {
   "cell_type": "code",
   "execution_count": null,
   "id": "e0d60a1e",
   "metadata": {},
   "outputs": [],
   "source": [
    "render(BottomHalfPlane(), p(-3, 3))"
   ]
  },
  {
   "cell_type": "code",
   "execution_count": null,
   "id": "8c8d8897-5dc0-45dc-854c-02bede8deb1d",
   "metadata": {},
   "outputs": [],
   "source": [
    "render_distance(Triangle(p(2, 1), p(0, 0), p(0.5, 1)), [-3, 3])"
   ]
  },
  {
   "cell_type": "markdown",
   "id": "b2ca63a3-898e-4363-ba73-6c3f1d846ae3",
   "metadata": {},
   "source": [
    "This has an issue with figuring out if it is outside or inside when the closest point is a corner. I will implement this with the generic path construct (as I did during my experiments)"
   ]
  }
 ],
 "metadata": {
  "kernelspec": {
   "display_name": "Python 3 (ipykernel)",
   "language": "python",
   "name": "python3"
  },
  "language_info": {
   "codemirror_mode": {
    "name": "ipython",
    "version": 3
   },
   "file_extension": ".py",
   "mimetype": "text/x-python",
   "name": "python",
   "nbconvert_exporter": "python",
   "pygments_lexer": "ipython3",
   "version": "3.12.3"
  }
 },
 "nbformat": 4,
 "nbformat_minor": 5
}
