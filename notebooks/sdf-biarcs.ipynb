{
 "cells": [
  {
   "cell_type": "code",
   "execution_count": 1,
   "id": "b93c7cdc-237d-40bb-bb0f-43ed9c8a38ab",
   "metadata": {},
   "outputs": [],
   "source": [
    "import polyscope as ps\n",
    "import interactive_polyscope\n",
    "import polymorph_s2df as sdf\n",
    "from polymorph_s2df.devutils import *\n",
    "from polymorph_s2df.utils import *\n",
    "\n",
    "from polymorph_s2df import *\n",
    "from polymorph_s2df.paths import OpenPath\n",
    "\n",
    "from polymorph_num.angle import angle_from_deg\n",
    "import math\n",
    "\n",
    "import ipywidgets as widgets"
   ]
  },
  {
   "cell_type": "code",
   "execution_count": 3,
   "id": "d56e31a8-0cb4-4502-ac8d-8a26ed72c7e1",
   "metadata": {},
   "outputs": [
    {
     "data": {
      "application/vnd.jupyter.widget-view+json": {
       "model_id": "f0e090f60d8c46e98a3e209dc0665259",
       "version_major": 2,
       "version_minor": 0
      },
      "text/plain": [
       "interactive(children=(FloatSlider(value=10.0, description='theta0', max=360.0), FloatSlider(value=45.0, descri…"
      ]
     },
     "metadata": {},
     "output_type": "display_data"
    },
    {
     "data": {
      "text/plain": [
       "<function __main__.show_biarc(theta0, theta1, param)>"
      ]
     },
     "execution_count": 3,
     "metadata": {},
     "output_type": "execute_result"
    }
   ],
   "source": [
    "def show_biarc(theta0, theta1, param):\n",
    "    t0 = angle_from_deg(theta0)\n",
    "    t1 = angle_from_deg(theta1)\n",
    "    profile = biarc(as_expr(-1.), as_expr(-0.3), t0, as_expr(0.3), as_expr(0.8), t1, as_expr(param))\n",
    "    render(OpenPath(profile).shell(0.02), n=1000)\n",
    "\n",
    "    mid_angle = (t0 + t1).half()\n",
    "    angle = angle_from_rad((param - 0.5) % 1 * 2 * PI) + mid_angle\n",
    "    display((angle.perp()))\n",
    "\n",
    "\n",
    "\n",
    "widgets.interact(show_biarc, theta0=widgets.FloatSlider(10, min=0, max=360), theta1=widgets.FloatSlider(45, min=0, max=360), param=widgets.FloatSlider(0.5, min=0, max=1))\n"
   ]
  },
  {
   "cell_type": "code",
   "execution_count": null,
   "id": "f65b2182-b3e5-4bad-a6bf-7aa93fecb238",
   "metadata": {},
   "outputs": [],
   "source": []
  }
 ],
 "metadata": {
  "kernelspec": {
   "display_name": "Python 3 (ipykernel)",
   "language": "python",
   "name": "python3"
  },
  "language_info": {
   "codemirror_mode": {
    "name": "ipython",
    "version": 3
   },
   "file_extension": ".py",
   "mimetype": "text/x-python",
   "name": "python",
   "nbconvert_exporter": "python",
   "pygments_lexer": "ipython3",
   "version": "3.12.3"
  }
 },
 "nbformat": 4,
 "nbformat_minor": 5
}
