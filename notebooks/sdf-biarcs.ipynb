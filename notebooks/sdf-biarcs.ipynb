{
 "cells": [
  {
   "cell_type": "code",
   "execution_count": 1,
   "id": "b93c7cdc-237d-40bb-bb0f-43ed9c8a38ab",
   "metadata": {},
   "outputs": [],
   "source": [
    "import polyscope as ps\n",
    "import interactive_polyscope\n",
    "import polymorph_s2df as sdf\n",
    "from polymorph_s2df.devutils import *\n",
    "from polymorph_s2df.utils import *\n",
    "\n",
    "from polymorph_s2df import *\n",
    "from polymorph_s2df.geom_helpers import no_inflexion_biarc, line_line_intersection, _biarc_point_inflexion_point, _biarc_point_no_inflexion_point\n",
    "\n",
    "\n",
    "from polymorph_s2df.paths import OpenPath\n",
    "\n",
    "from polymorph_num.angle import angle_from_deg, polar_angle_from_vec\n",
    "import math\n",
    "\n",
    "import ipywidgets as widgets"
   ]
  },
  {
   "cell_type": "code",
   "execution_count": 2,
   "id": "8de4a1e1-2902-4906-a9fe-5e3a723cc639",
   "metadata": {},
   "outputs": [
    {
     "data": {
      "application/vnd.jupyter.widget-view+json": {
       "model_id": "7c4122367dc64f94975de08f6aa640d1",
       "version_major": 2,
       "version_minor": 0
      },
      "text/plain": [
       "interactive(children=(FloatSlider(value=10.0, description='theta0', max=360.0), FloatSlider(value=45.0, descri…"
      ]
     },
     "metadata": {},
     "output_type": "display_data"
    },
    {
     "data": {
      "text/plain": [
       "<function __main__.show_biarc(theta0, theta1, param)>"
      ]
     },
     "execution_count": 2,
     "metadata": {},
     "output_type": "execute_result"
    }
   ],
   "source": [
    "def show_biarc(theta0, theta1, param):\n",
    "    t0 = angle_from_deg(theta0)\n",
    "    t1 = angle_from_deg(theta1)\n",
    "\n",
    "    x0 = as_expr(-1.)\n",
    "    y0 = as_expr(-0.3)\n",
    "    x1 = as_expr(0.3)\n",
    "    y1 = as_expr(1.3)\n",
    "    \n",
    "    profile = biarc(x0, y0, t0, x1, y1, t1, angle_from_deg(as_expr(param)))\n",
    "    render(OpenPath(profile).shell(0.02), n=1000)\n",
    "\n",
    "\n",
    "\n",
    "\n",
    "widgets.interact(show_biarc, theta0=widgets.FloatSlider(10, min=0, max=360), theta1=widgets.FloatSlider(45, min=0, max=360), param=widgets.FloatSlider(0, min=0, max=360))"
   ]
  },
  {
   "cell_type": "code",
   "execution_count": null,
   "id": "ebd2a656-0b81-45db-8fc2-c562c2569d7c",
   "metadata": {},
   "outputs": [],
   "source": []
  }
 ],
 "metadata": {
  "kernelspec": {
   "display_name": "Python 3 (ipykernel)",
   "language": "python",
   "name": "python3"
  },
  "language_info": {
   "codemirror_mode": {
    "name": "ipython",
    "version": 3
   },
   "file_extension": ".py",
   "mimetype": "text/x-python",
   "name": "python",
   "nbconvert_exporter": "python",
   "pygments_lexer": "ipython3",
   "version": "3.12.3"
  }
 },
 "nbformat": 4,
 "nbformat_minor": 5
}
