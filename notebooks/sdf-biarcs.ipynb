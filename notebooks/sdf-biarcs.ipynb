{
 "cells": [
  {
   "cell_type": "code",
   "execution_count": 1,
   "id": "b93c7cdc-237d-40bb-bb0f-43ed9c8a38ab",
   "metadata": {},
   "outputs": [],
   "source": [
    "import polyscope as ps\n",
    "import interactive_polyscope\n",
    "import polymorph_s2df as sdf\n",
    "from polymorph_s2df.devutils import *\n",
    "from polymorph_s2df.utils import *\n",
    "\n",
    "from polymorph_s2df import *\n",
    "from polymorph_num.expr import to_str\n",
    "import math\n",
    "\n",
    "import ipywidgets as widgets"
   ]
  },
  {
   "cell_type": "code",
   "execution_count": 58,
   "id": "d56e31a8-0cb4-4502-ac8d-8a26ed72c7e1",
   "metadata": {},
   "outputs": [
    {
     "data": {
      "application/vnd.jupyter.widget-view+json": {
       "model_id": "95423ac5041545ac802ef5a2bb90720c",
       "version_major": 2,
       "version_minor": 0
      },
      "text/plain": [
       "interactive(children=(FloatSlider(value=3.0, description='theta0', max=6.283185307179586), FloatSlider(value=1…"
      ]
     },
     "metadata": {},
     "output_type": "display_data"
    },
    {
     "data": {
      "text/plain": [
       "<function __main__.show_biarc(theta0, theta1, param)>"
      ]
     },
     "execution_count": 58,
     "metadata": {},
     "output_type": "execute_result"
    }
   ],
   "source": [
    "def show_biarc(theta0, theta1, param):\n",
    "    profile = draw((-2, 0)).vertical_line(-2).horizontal_line(4).vertical_line(2).biarc_to((-2, 0), theta0, theta1, param).close()\n",
    "    render_distance(profile)\n",
    "\n",
    "widgets.interact(show_biarc, theta0=widgets.FloatSlider(3, min=0, max=2*math.pi), theta1=widgets.FloatSlider(1, min=0, max=2*math.pi), param=widgets.FloatSlider(0.5, min=0, max=1))\n"
   ]
  },
  {
   "cell_type": "code",
   "execution_count": null,
   "id": "f65b2182-b3e5-4bad-a6bf-7aa93fecb238",
   "metadata": {},
   "outputs": [],
   "source": []
  }
 ],
 "metadata": {
  "kernelspec": {
   "display_name": "Python 3 (ipykernel)",
   "language": "python",
   "name": "python3"
  },
  "language_info": {
   "codemirror_mode": {
    "name": "ipython",
    "version": 3
   },
   "file_extension": ".py",
   "mimetype": "text/x-python",
   "name": "python",
   "nbconvert_exporter": "python",
   "pygments_lexer": "ipython3",
   "version": "3.12.3"
  }
 },
 "nbformat": 4,
 "nbformat_minor": 5
}
